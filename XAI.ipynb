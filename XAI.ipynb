{
  "cells": [
    {
      "cell_type": "markdown",
      "source": [
        "**1. Cài đặt thư viện và thay đổi đường dẫn \\(Khi sử dụng google colab)**"
      ],
      "metadata": {
        "id": "MV0GzTvKXimd"
      }
    },
    {
      "cell_type": "code",
      "execution_count": 1,
      "metadata": {
        "colab": {
          "base_uri": "https://localhost:8080/"
        },
        "id": "BDIAmljeqNlj",
        "outputId": "650e1f1d-cf86-4b7c-9fef-646fb8f5577a"
      },
      "outputs": [
        {
          "output_type": "stream",
          "name": "stdout",
          "text": [
            "Requirement already satisfied: nltk in /usr/local/lib/python3.10/dist-packages (3.8.1)\n",
            "Requirement already satisfied: matplotlib in /usr/local/lib/python3.10/dist-packages (3.7.1)\n",
            "Collecting py-rouge\n",
            "  Downloading py_rouge-1.1-py3-none-any.whl.metadata (8.7 kB)\n",
            "Requirement already satisfied: tqdm in /usr/local/lib/python3.10/dist-packages (4.66.5)\n",
            "Collecting shap\n",
            "  Downloading shap-0.46.0-cp310-cp310-manylinux_2_12_x86_64.manylinux2010_x86_64.manylinux_2_17_x86_64.manylinux2014_x86_64.whl.metadata (24 kB)\n",
            "Collecting javalang\n",
            "  Downloading javalang-0.13.0-py3-none-any.whl.metadata (805 bytes)\n",
            "Requirement already satisfied: click in /usr/local/lib/python3.10/dist-packages (from nltk) (8.1.7)\n",
            "Requirement already satisfied: joblib in /usr/local/lib/python3.10/dist-packages (from nltk) (1.4.2)\n",
            "Requirement already satisfied: regex>=2021.8.3 in /usr/local/lib/python3.10/dist-packages (from nltk) (2024.5.15)\n",
            "Requirement already satisfied: contourpy>=1.0.1 in /usr/local/lib/python3.10/dist-packages (from matplotlib) (1.2.1)\n",
            "Requirement already satisfied: cycler>=0.10 in /usr/local/lib/python3.10/dist-packages (from matplotlib) (0.12.1)\n",
            "Requirement already satisfied: fonttools>=4.22.0 in /usr/local/lib/python3.10/dist-packages (from matplotlib) (4.53.1)\n",
            "Requirement already satisfied: kiwisolver>=1.0.1 in /usr/local/lib/python3.10/dist-packages (from matplotlib) (1.4.5)\n",
            "Requirement already satisfied: numpy>=1.20 in /usr/local/lib/python3.10/dist-packages (from matplotlib) (1.26.4)\n",
            "Requirement already satisfied: packaging>=20.0 in /usr/local/lib/python3.10/dist-packages (from matplotlib) (24.1)\n",
            "Requirement already satisfied: pillow>=6.2.0 in /usr/local/lib/python3.10/dist-packages (from matplotlib) (9.4.0)\n",
            "Requirement already satisfied: pyparsing>=2.3.1 in /usr/local/lib/python3.10/dist-packages (from matplotlib) (3.1.2)\n",
            "Requirement already satisfied: python-dateutil>=2.7 in /usr/local/lib/python3.10/dist-packages (from matplotlib) (2.8.2)\n",
            "Requirement already satisfied: scipy in /usr/local/lib/python3.10/dist-packages (from shap) (1.13.1)\n",
            "Requirement already satisfied: scikit-learn in /usr/local/lib/python3.10/dist-packages (from shap) (1.3.2)\n",
            "Requirement already satisfied: pandas in /usr/local/lib/python3.10/dist-packages (from shap) (2.1.4)\n",
            "Collecting slicer==0.0.8 (from shap)\n",
            "  Downloading slicer-0.0.8-py3-none-any.whl.metadata (4.0 kB)\n",
            "Requirement already satisfied: numba in /usr/local/lib/python3.10/dist-packages (from shap) (0.60.0)\n",
            "Requirement already satisfied: cloudpickle in /usr/local/lib/python3.10/dist-packages (from shap) (2.2.1)\n",
            "Requirement already satisfied: six in /usr/local/lib/python3.10/dist-packages (from javalang) (1.16.0)\n",
            "Requirement already satisfied: llvmlite<0.44,>=0.43.0dev0 in /usr/local/lib/python3.10/dist-packages (from numba->shap) (0.43.0)\n",
            "Requirement already satisfied: pytz>=2020.1 in /usr/local/lib/python3.10/dist-packages (from pandas->shap) (2024.1)\n",
            "Requirement already satisfied: tzdata>=2022.1 in /usr/local/lib/python3.10/dist-packages (from pandas->shap) (2024.1)\n",
            "Requirement already satisfied: threadpoolctl>=2.0.0 in /usr/local/lib/python3.10/dist-packages (from scikit-learn->shap) (3.5.0)\n",
            "Downloading py_rouge-1.1-py3-none-any.whl (56 kB)\n",
            "\u001b[2K   \u001b[90m━━━━━━━━━━━━━━━━━━━━━━━━━━━━━━━━━━━━━━━━\u001b[0m \u001b[32m56.8/56.8 kB\u001b[0m \u001b[31m2.1 MB/s\u001b[0m eta \u001b[36m0:00:00\u001b[0m\n",
            "\u001b[?25hDownloading shap-0.46.0-cp310-cp310-manylinux_2_12_x86_64.manylinux2010_x86_64.manylinux_2_17_x86_64.manylinux2014_x86_64.whl (540 kB)\n",
            "\u001b[2K   \u001b[90m━━━━━━━━━━━━━━━━━━━━━━━━━━━━━━━━━━━━━━━━\u001b[0m \u001b[32m540.1/540.1 kB\u001b[0m \u001b[31m16.4 MB/s\u001b[0m eta \u001b[36m0:00:00\u001b[0m\n",
            "\u001b[?25hDownloading slicer-0.0.8-py3-none-any.whl (15 kB)\n",
            "Downloading javalang-0.13.0-py3-none-any.whl (22 kB)\n",
            "Installing collected packages: py-rouge, slicer, javalang, shap\n",
            "Successfully installed javalang-0.13.0 py-rouge-1.1 shap-0.46.0 slicer-0.0.8\n"
          ]
        }
      ],
      "source": [
        "!pip install nltk matplotlib py-rouge tqdm shap javalang"
      ]
    },
    {
      "cell_type": "code",
      "execution_count": 2,
      "metadata": {
        "id": "sBI3iyLhqzab",
        "colab": {
          "base_uri": "https://localhost:8080/"
        },
        "outputId": "3161de56-0d86-4f55-b278-3946d14ae2f4"
      },
      "outputs": [
        {
          "output_type": "stream",
          "name": "stdout",
          "text": [
            "Mounted at /content/drive\n"
          ]
        }
      ],
      "source": [
        "from google.colab import drive\n",
        "drive.mount('/content/drive',force_remount=True)"
      ]
    },
    {
      "cell_type": "code",
      "execution_count": 3,
      "metadata": {
        "colab": {
          "base_uri": "https://localhost:8080/"
        },
        "id": "hkcYCO6Nq3MK",
        "outputId": "03be1b24-f944-4f27-f06c-1fa6a758f2c8"
      },
      "outputs": [
        {
          "output_type": "stream",
          "name": "stdout",
          "text": [
            "/content/drive/.shortcut-targets-by-id/1hQNAblWDSlYAFwpSz5-47rsxwUgg9j3j/workspace/DeepCom\n"
          ]
        }
      ],
      "source": [
        "%cd /content/drive/My Drive/workspace/DeepCom"
      ]
    },
    {
      "cell_type": "markdown",
      "source": [
        "**2. Import thư viện và cài đặt cần thiết**"
      ],
      "metadata": {
        "id": "4qiXb83vXwt4"
      }
    },
    {
      "cell_type": "code",
      "execution_count": 4,
      "metadata": {
        "colab": {
          "base_uri": "https://localhost:8080/"
        },
        "id": "JhI1ES9sqSC1",
        "outputId": "7ad62be0-9cc9-4422-ec71-4130535bd719"
      },
      "outputs": [
        {
          "output_type": "stream",
          "name": "stderr",
          "text": [
            "[nltk_data] Downloading package wordnet to /root/nltk_data...\n",
            "[nltk_data] Downloading package punkt to /root/nltk_data...\n",
            "[nltk_data]   Unzipping tokenizers/punkt.zip.\n"
          ]
        },
        {
          "output_type": "execute_result",
          "data": {
            "text/plain": [
              "True"
            ]
          },
          "metadata": {},
          "execution_count": 4
        }
      ],
      "source": [
        "import nltk\n",
        "\n",
        "nltk.download('wordnet')\n",
        "nltk.download('punkt')"
      ]
    },
    {
      "cell_type": "code",
      "execution_count": 5,
      "metadata": {
        "colab": {
          "base_uri": "https://localhost:8080/"
        },
        "id": "0w4OHTiCYxHz",
        "outputId": "30b42fdf-dcbd-445c-cbdb-13b0d4bfaf90"
      },
      "outputs": [
        {
          "output_type": "stream",
          "name": "stderr",
          "text": [
            "INFO:root:Configurations this run are shown below.\n",
            "INFO:root:Notes: If only runs test, the model configurations shown above is not the configurations of the model test runs on.\n",
            "INFO:root:\n",
            "INFO:root:Features and limitations:\n",
            "INFO:root:dataset_dir: ../dataset_v2\n",
            "INFO:root:use_cuda: True\n",
            "INFO:root:device: cuda\n",
            "INFO:root:use_coverage: False\n",
            "INFO:root:use_pointer_gen: False\n",
            "INFO:root:use_teacher_forcing: True\n",
            "INFO:root:use_lr_decay: True\n",
            "INFO:root:use_early_stopping: True\n",
            "INFO:root:max_code_length: 313\n",
            "INFO:root:max_nl_length: 30\n",
            "INFO:root:min_nl_length: 4\n",
            "INFO:root:max_decode_steps: 30\n",
            "INFO:root:early_stopping_patience: 5\n",
            "INFO:root:\n",
            "INFO:root:Train configurations:\n",
            "INFO:root:embedding_dim: 256\n",
            "INFO:root:hidden_size: 256\n",
            "INFO:root:decoder_dropout_rate: 0.5\n",
            "INFO:root:teacher_forcing_ratio: 0.5\n",
            "INFO:root:batch_size: 32\n",
            "INFO:root:code_encoder_lr: 0.001\n",
            "INFO:root:ast_encoder_lr: 0.001\n",
            "INFO:root:reduce_hidden_lr: 0.001\n",
            "INFO:root:decoder_lr: 0.0001\n",
            "INFO:root:lr_decay_every: 1\n",
            "INFO:root:lr_decay_rate: 0.99\n",
            "INFO:root:n_epochs: 50\n",
            "INFO:root:\n",
            "INFO:root:Eval and test configurations:\n",
            "INFO:root:beam_width: 5\n",
            "INFO:root:beam_top_sentences: 1\n",
            "INFO:root:eval_batch_size: 32\n",
            "INFO:root:test_batch_size: 16\n",
            "INFO:root:\n",
            "INFO:numexpr.utils:NumExpr defaulting to 2 threads.\n"
          ]
        }
      ],
      "source": [
        "import torch\n",
        "import torch.nn as nn\n",
        "from torch.optim import Adam, lr_scheduler\n",
        "from torch.utils.data import DataLoader\n",
        "import models\n",
        "import numpy as np\n",
        "import utils\n",
        "import data\n",
        "import shap\n",
        "import eval\n",
        "import numpy as np\n",
        "import matplotlib.pyplot as plt\n",
        "import config\n",
        "import os\n",
        "import train\n",
        "import pickle\n",
        "import pickle\n",
        "_PAD = '<PAD>'\n",
        "class BeamNode(object):\n",
        "\n",
        "    def __init__(self, sentence_indices, log_probs, hidden,code_attention=None,ast_attention=None):\n",
        "        \"\"\"\n",
        "\n",
        "        :param sentence_indices: indices of words of current sentence (from root to current node)\n",
        "        :param log_probs: log prob of node of sentence\n",
        "        :param hidden: [1, 1, H]\n",
        "        \"\"\"\n",
        "        self.sentence_indices = sentence_indices\n",
        "        self.log_probs = log_probs\n",
        "        self.hidden = hidden\n",
        "        self.code_attention=[] if code_attention is None else code_attention\n",
        "        self.ast_attention=[] if ast_attention is None else ast_attention\n",
        "\n",
        "    def extend_node(self, word_index, log_prob, hidden,code_attention=None,ast_attention=None):\n",
        "        return BeamNode(sentence_indices=self.sentence_indices + [word_index],\n",
        "                        log_probs=self.log_probs + [log_prob],\n",
        "                        hidden=hidden,\n",
        "                        code_attention=self.code_attention+[code_attention],ast_attention=self.ast_attention+[ast_attention])\n",
        "\n",
        "    def avg_log_prob(self):\n",
        "        return sum(self.log_probs) / len(self.sentence_indices)\n",
        "\n",
        "    def word_index(self):\n",
        "        return self.sentence_indices[-1]\n",
        "    def attention(self):\n",
        "        return self.code_attention,self.ast_attention\n",
        "\n",
        "def beam_decode(model,batch_size, code_outputs: torch.Tensor,\n",
        "                    ast_outputs: torch.Tensor, decoder_hidden: torch.Tensor):\n",
        "  batch_sentences = []\n",
        "  batch_code_attention=[]\n",
        "  batch_ast_attention=[]\n",
        "  # B = 1\n",
        "  for index_batch in range(batch_size):\n",
        "      # for each input sentence\n",
        "      single_decoder_hidden = decoder_hidden[:, index_batch, :].unsqueeze(1)  # [1, 1, H]\n",
        "      single_code_output = code_outputs[:, index_batch, :].unsqueeze(1)  # [T, 1, H]\n",
        "      single_ast_output = ast_outputs[:, index_batch, :].unsqueeze(1)  # [T, 1, H]\n",
        "      root = BeamNode(sentence_indices=[utils.get_sos_index(nl_vocab)],\n",
        "                      log_probs=[0.0],\n",
        "                      hidden=single_decoder_hidden)\n",
        "\n",
        "      current_nodes = [root]  # list of nodes to be further extended\n",
        "      final_nodes = []  # list of end nodes\n",
        "\n",
        "      for step in range(config.max_decode_steps):\n",
        "          if len(current_nodes) == 0:\n",
        "              break\n",
        "\n",
        "          candidate_nodes = []  # list of nodes to be extended next step\n",
        "\n",
        "          feed_inputs = []\n",
        "          feed_hidden = []\n",
        "\n",
        "          # B = len(current_nodes) except eos\n",
        "          extend_nodes = []\n",
        "          for node in current_nodes:\n",
        "              # if current node is EOS\n",
        "              if node.word_index() == utils.get_eos_index(nl_vocab):\n",
        "                  final_nodes.append(node)\n",
        "                  # if number of final nodes reach the beam width\n",
        "                  if len(final_nodes) >= config.beam_width:\n",
        "                      break\n",
        "                  continue\n",
        "\n",
        "              extend_nodes.append(node)\n",
        "\n",
        "              decoder_inputs = node.word_index()\n",
        "              single_decoder_hidden = node.hidden.clone().detach()     # [1, 1, H]\n",
        "\n",
        "              feed_inputs.append(decoder_inputs)  # [B]\n",
        "              feed_hidden.append(single_decoder_hidden)   # B x [1, 1, H]\n",
        "\n",
        "          if len(extend_nodes) == 0:\n",
        "              break\n",
        "\n",
        "          feed_batch_size = len(feed_inputs)\n",
        "          feed_code_outputs = single_code_output.repeat(1, feed_batch_size, 1)\n",
        "          feed_ast_outputs = single_ast_output.repeat(1, feed_batch_size, 1)\n",
        "\n",
        "          feed_inputs = torch.tensor(feed_inputs, device=config.device)   # [B]\n",
        "          feed_hidden = torch.stack(feed_hidden, dim=2).squeeze(0)    # [1, B, H]\n",
        "\n",
        "          # decoder_outputs: [B, nl_vocab_size]\n",
        "          # new_decoder_hidden: [1, B, H]\n",
        "          # attn_weights: [B, 1, T]\n",
        "          decoder_outputs, new_decoder_hidden, \\\n",
        "              code_attn_weights, ast_attn_weights = model.decoder(inputs=feed_inputs,\n",
        "                                                                        last_hidden=feed_hidden,\n",
        "                                                                        code_outputs=feed_code_outputs,\n",
        "                                                                        ast_outputs=feed_ast_outputs)\n",
        "\n",
        "          # get top k words\n",
        "          # log_probs: [B, beam_width]\n",
        "          # word_indices: [B, beam_width]\n",
        "          batch_log_probs, batch_word_indices = decoder_outputs.topk(config.beam_width)\n",
        "\n",
        "          for index_node, node in enumerate(extend_nodes):\n",
        "              log_probs = batch_log_probs[index_node]\n",
        "              word_indices = batch_word_indices[index_node]\n",
        "              hidden = new_decoder_hidden[:, index_node, :].unsqueeze(1)\n",
        "              code_attention=code_attn_weights[index_node,:,:]\n",
        "              ast_attention=ast_attn_weights[index_node,:,:]\n",
        "              for i in range(config.beam_width):\n",
        "                  log_prob = log_probs[i]\n",
        "                  word_index = word_indices[i].item()\n",
        "\n",
        "                  new_node = node.extend_node(word_index=word_index,\n",
        "                                              log_prob=log_prob,\n",
        "                                              hidden=hidden,\n",
        "                                              code_attention=code_attention,\n",
        "                                              ast_attention=ast_attention)\n",
        "                  candidate_nodes.append(new_node)\n",
        "\n",
        "          # sort candidate nodes by log_prb and select beam_width nodes\n",
        "          candidate_nodes = sorted(candidate_nodes, key=lambda item: item.avg_log_prob(), reverse=True)\n",
        "          current_nodes = candidate_nodes[: config.beam_width]\n",
        "\n",
        "      final_nodes += current_nodes\n",
        "      final_nodes = sorted(final_nodes, key=lambda item: item.avg_log_prob(), reverse=True)\n",
        "      final_nodes = final_nodes[: config.beam_top_sentences]\n",
        "\n",
        "      sentences = []\n",
        "      code_attention = []\n",
        "      ast_attention=[]\n",
        "      for final_node in final_nodes:\n",
        "          sentences.append(final_node.sentence_indices)\n",
        "      for final_node in final_nodes:\n",
        "          code_attention.append(final_node.code_attention)\n",
        "      for final_node in final_nodes:\n",
        "          ast_attention.append(final_node.ast_attention)\n",
        "      batch_sentences.append(sentences)\n",
        "      batch_code_attention.append(code_attention)\n",
        "      batch_ast_attention.append(ast_attention)\n",
        "  #longest_senteces=max(len(sentences[0]) for sentences in batch_sentences)\n",
        "  #for sentence in batch_sentences:\n",
        "  #  while len(sentence[0])<longest_senteces:\n",
        "  #    sentence[0].append(nl_vocab.word2index[_PAD])\n",
        "  #print(batch_sentences)\n",
        "\n",
        "  return batch_sentences,batch_code_attention,batch_ast_attention\n",
        "\n",
        "def translate_indices(batch_sentences,batch_code_attentions,batch_ast_attentions):\n",
        "  batch_words = []\n",
        "  batch_code_attention=[]\n",
        "  batch_ast_attention=[]\n",
        "  #print(batch_sentences)\n",
        "  for idxx,sentences in enumerate(batch_sentences):\n",
        "      code_attentions=batch_code_attentions[idxx]\n",
        "      ast_attentions=batch_ast_attentions[idxx]\n",
        "      words = []\n",
        "      code_attention=[]\n",
        "      ast_attention=[]\n",
        "      #print(code_attentions)\n",
        "      for idx,indices in enumerate(sentences):\n",
        "          #print(code_attentions[idx])\n",
        "          for idx1,index in enumerate(indices):\n",
        "              word = nl_vocab.index2word[index]\n",
        "              if utils.is_unk(word) or not utils.is_special_symbol(word):\n",
        "                  words.append(word)\n",
        "                  code_attention.append(code_attentions[idx][idx1])\n",
        "                  ast_attention.append(ast_attentions[idx][idx1])\n",
        "      batch_words.append(' '.join(words))\n",
        "      batch_code_attention.append(code_attention)\n",
        "      batch_ast_attention.append(ast_attention)\n",
        "  return batch_words, batch_code_attention,batch_ast_attention\n",
        "\n",
        "code_vocab = utils.load_vocab_pk(config.code_vocab_path)\n",
        "ast_vocab = utils.load_vocab_pk(config.ast_vocab_path)\n",
        "nl_vocab = utils.load_vocab_pk(config.nl_vocab_path)\n",
        "code_vocab_size = len(code_vocab)\n",
        "ast_vocab_size = len(ast_vocab)\n",
        "nl_vocab_size = len(nl_vocab)\n",
        "dataset_dir = \"../dataset_v2/\"\n"
      ]
    },
    {
      "cell_type": "markdown",
      "source": [
        "**3. Minh họa attention**"
      ],
      "metadata": {
        "id": "fabQ1dK-X8MV"
      }
    },
    {
      "cell_type": "code",
      "execution_count": 23,
      "metadata": {
        "id": "TGXiq-3_mok4"
      },
      "outputs": [],
      "source": [
        "def visualize_attention(x,model,code_vocab,ast_vocab,nl_vocab,limit_meteor_score=None,save_image_path=None,ast=False):\n",
        "    x_temp=[[x]]\n",
        "    code_original=x[0]\n",
        "    ast_original=x[1]\n",
        "    comment_original=x[2]\n",
        "    x=utils.unsort_collate_fn(x_temp,code_vocab,ast_vocab,nl_vocab)\n",
        "    code_outputs, ast_outputs, decoder_hidden = model(x, 1, nl_vocab, is_test=True)\n",
        "    batch_sentences,code_attention,ast_attention = beam_decode(model=model,batch_size=1,\n",
        "                                                  code_outputs=code_outputs,\n",
        "                                                  ast_outputs=ast_outputs,\n",
        "                                                  decoder_hidden=decoder_hidden)\n",
        "\n",
        "                # translate indices into words both for candidates\n",
        "    candidates,code_attention_res,ast_attention_res = translate_indices(batch_sentences,code_attention,ast_attention)\n",
        "\n",
        "    res=torch.cat(code_attention_res[0],0)\n",
        "    res_1=torch.cat(ast_attention_res[0],0)\n",
        "    '''\n",
        "    fig, ax = plt.subplots(2, figsize=(40, 20))\n",
        "    #fig.subplots_adjust(wspace=0.25)\n",
        "    ax[0].tick_params(top=True, labeltop=True, bottom=False, labelbottom=False)\n",
        "    ax[0].set_xticks(range(len(code_original)), code_original, rotation=90)\n",
        "    ax[0].set_yticks(range(len(candidates[0].split())), candidates[0].split())\n",
        "    numpy_array=res.detach().cpu().numpy()\n",
        "    numpy_array=numpy_array[:,:-1]\n",
        "    ax[0].imshow( numpy_array ,cmap='Greys')\n",
        "    ax[1].tick_params(top=True, labeltop=True, bottom=False, labelbottom=False)\n",
        "    ax[1].set_xticks(range(len(ast_original)), ast_original, rotation=90)\n",
        "    ax[1].set_yticks(range(len(candidates[0].split())), candidates[0].split())\n",
        "    numpy_array_1=res_1.detach().cpu().numpy()\n",
        "    numpy_array_1=numpy_array_1[:,:-1]\n",
        "    ax[1].imshow( numpy_array_1 ,cmap='Greys')\n",
        "    '''\n",
        "    if ast:\n",
        "      fig,ax=plt.subplots()\n",
        "    else:\n",
        "      fig,ax=plt.subplots()\n",
        "    ax.tick_params(top=True, labeltop=True, bottom=False, labelbottom=False)\n",
        "    if ast:\n",
        "      ax.set_xticks(range(len(ast_original)), ast_original,rotation=90)\n",
        "      ax.set_yticks(range(len(candidates[0].split())), candidates[0].split())\n",
        "    else:\n",
        "      ax.set_xticks(range(len(code_original)), code_original, rotation=80)\n",
        "      ax.set_yticks(range(len(candidates[0].split())), candidates[0].split())\n",
        "    if ast:\n",
        "      numpy_array=res_1.detach().cpu().numpy()\n",
        "    else:\n",
        "      numpy_array=res.detach().cpu().numpy()\n",
        "    numpy_array=numpy_array[:,:-1]\n",
        "    ax.imshow( numpy_array ,cmap='Greys')\n",
        "    meteor_score=utils.meteor_score(comment_original,candidates[0].split())\n",
        "    if save_image_path is not None and (limit_meteor_score is None or meteor_score>=limit_meteor_score):\n",
        "        fig.savefig(save_image_path)\n",
        "    else:\n",
        "        plt.show()\n",
        "\n"
      ]
    },
    {
      "cell_type": "code",
      "execution_count": 7,
      "metadata": {
        "id": "R5RBMBIVITFW"
      },
      "outputs": [],
      "source": [
        "def get_attention_by_project(project,num_data,num_fold,item=None,save_image_meta=None,save_image_baseline=None,ast=False):\n",
        "  project2sources = { #ranking\n",
        "      'spring-boot': ['spring-framework', 'dubbo', 'flink', 'kafka', 'spring-security', 'guava', 'ExoPlayer'],\n",
        "      'spring-framework': ['spring-boot', 'dubbo', 'flink', 'spring-security', 'kafka', 'ExoPlayer', 'guava'],\n",
        "      'spring-security': ['spring-framework', 'spring-boot', 'dubbo', 'kafka', 'flink', 'ExoPlayer' ,'guava'],\n",
        "      'guava': ['flink', 'dubbo', 'spring-framework', 'kafka', 'ExoPlayer', 'spring-boot', 'dagger'],\n",
        "      'ExoPlayer': ['flink', 'spring-framework', 'guava', 'kafka', 'spring-boot', 'dubbo', 'spring-security'],\n",
        "      'kafka': ['flink', 'spring-boot', 'spring-framework', 'dubbo', 'guava', 'ExoPlayer', 'spring-security'],\n",
        "      'dubbo': ['spring-framework', 'spring-boot', 'flink', 'kafka', 'guava', 'spring-security', 'dagger'],\n",
        "      'flink': ['kafka', 'spring-framework', 'dubbo', 'spring-boot', 'guava', 'ExoPlayer', 'spring-security'],\n",
        "  }\n",
        "  project2path={\n",
        "      'dubbo':'model/dubbo_meta_3/best_epoch-0.pt',\n",
        "      'spring-boot':'model/spring-boot_meta_3/best_epoch-3.pt',\n",
        "      'spring-security': 'model/spring-security_meta_3/best_epoch-0.pt',\n",
        "      'guava': 'model/guava_meta_3/best_epoch-1.pt',\n",
        "      'ExoPlayer':'model/ExoPlayer_meta_3/best_epoch-4.pt',\n",
        "      'kafka':'model/kafka_meta_3/best_epoch-1.pt',\n",
        "      'flink': 'model/flink_meta_3/best_epoch-4.pt',\n",
        "      'spring-framework':'model/spring-framework_meta_3/best_epoch-0.pt',\n",
        "  }\n",
        "  with open(f'../dataset_v2/original/{project}/all_unpreprocess.code', 'rb') as handle:\n",
        "      code_dict = pickle.loads(handle.read())\n",
        "  with open(f'../dataset_v2/original/{project}/all_truncated_unlowered_dict.code', 'rb') as handle1:\n",
        "      code_dict_unlowerd = pickle.loads(handle1.read())\n",
        "  validating_project=project2sources[project][3]\n",
        "  train_instance = train.Train(vocab_file_path=(config.code_vocab_path, config.ast_vocab_path, config.nl_vocab_path),model_file_path=project2path[project],\n",
        "                                    code_path=os.path.join(dataset_dir,f'original/{project}/fold_{num_fold}_train.code')\n",
        "                                    ,ast_path=os.path.join(dataset_dir,f'original/{project}/fold_{num_fold}_train.sbt'),\n",
        "                                    nl_path=os.path.join(dataset_dir,f'original/{project}/fold_{num_fold}_train.comment'),batch_size=config.support_batch_size,\n",
        "                                    code_valid_path=os.path.join(dataset_dir,f'original/{validating_project}/all_truncated_final.code'),nl_valid_path=os.path.join(dataset_dir,f'original/{validating_project}/all_truncated_final.comment'),\n",
        "                                          ast_valid_path=os.path.join(dataset_dir,f'original/{validating_project}/all_truncated.sbt')\n",
        "                                          ,num_of_data=num_data,save_file=False,seed=0,is_test=True)\n",
        "  best_model_test_dict=train_instance.run_train()\n",
        "  train_instance_baseline = train.Train(vocab_file_path=(config.code_vocab_path, config.ast_vocab_path, config.nl_vocab_path),model_file_path=f'model/{project}_base_3/best_epoch-0_batch-last.pt',\n",
        "                                    code_path=os.path.join(dataset_dir,f'original/{project}/fold_{num_fold}_train.code')\n",
        "                                    ,ast_path=os.path.join(dataset_dir,f'original/{project}/fold_{num_fold}_train.sbt'),\n",
        "                                    nl_path=os.path.join(dataset_dir,f'original/{project}/fold_{num_fold}_train.comment'),batch_size=config.support_batch_size,\n",
        "                                    code_valid_path=os.path.join(dataset_dir,f'original/{validating_project}/all_truncated_final.code'),nl_valid_path=os.path.join(dataset_dir,f'original/{validating_project}/all_truncated_final.comment'),\n",
        "                                          ast_valid_path=os.path.join(dataset_dir,f'original/{validating_project}/all_truncated.sbt')\n",
        "                                          ,num_of_data=num_data,save_file=False,seed=0,is_test=True)\n",
        "  best_model_test_dict_baseline=train_instance_baseline.run_train()\n",
        "  model_meta=models.Model(code_vocab_size=code_vocab_size,\n",
        "                                ast_vocab_size=ast_vocab_size,\n",
        "                                nl_vocab_size=nl_vocab_size,\n",
        "                                model_state_dict=best_model_test_dict\n",
        "                                ,is_eval=True)\n",
        "  model_baseline=models.Model(code_vocab_size=code_vocab_size,\n",
        "                                ast_vocab_size=ast_vocab_size,\n",
        "                                nl_vocab_size=nl_vocab_size,\n",
        "                                model_state_dict=best_model_test_dict_baseline\n",
        "                                ,is_eval=True)\n",
        "\n",
        "  dataset_test = data.CodePtrDataset(os.path.join(dataset_dir,f'original/{project}/fold_{num_fold}_test.code'),\n",
        "                                      os.path.join(dataset_dir,f'original/{project}/fold_{num_fold}_test.sbt'),\n",
        "                                      os.path.join(dataset_dir,f'original/{project}/fold_{num_fold}_test.comment'))\n",
        "  #x=dataset_test.__getitem__(181)\n",
        "  #visualize_attention(x,model,code_vocab,ast_vocab,nl_vocab,f'result_images/guava/{181}.png')\n",
        "  if item is not None:\n",
        "    x=dataset_test.__getitem__(item)\n",
        "    print('MAML: ')\n",
        "    visualize_attention(x,model_meta,code_vocab,ast_vocab,nl_vocab,None,save_image_meta,ast=ast)\n",
        "    print('Baseline: ')\n",
        "    visualize_attention(x,model_baseline,code_vocab,ast_vocab,nl_vocab,None,save_image_baseline,ast=ast)\n",
        "  else:\n",
        "    for i in range(len(dataset_test)):\n",
        "      x=dataset_test.__getitem__(i)\n",
        "      print('MAML: ')\n",
        "      visualize_attention(x,model_meta,code_vocab,ast_vocab,nl_vocab,ast=ast)\n",
        "      print('Baseline: ')\n",
        "      visualize_attention(x,model_baseline,code_vocab,ast_vocab,nl_vocab,ast=ast)"
      ]
    },
    {
      "cell_type": "code",
      "source": [
        "get_attention_by_project('flink',100,0,181,'./result_images/flink_meta_100_0_181.pdf','./result_images/flink_baseline_100_0_181.pdf')"
      ],
      "metadata": {
        "id": "6arAblxHZsdh",
        "colab": {
          "base_uri": "https://localhost:8080/",
          "height": 1000
        },
        "outputId": "56ea5b89-0bc1-4745-c057-d1e24e5c85d3"
      },
      "execution_count": null,
      "outputs": [
        {
          "output_type": "stream",
          "name": "stderr",
          "text": [
            "INFO:root:Epoch 1, batch 0: 4.565257549285889\n",
            "INFO:root:epoch: 1/50, batch: 0/3, avg loss: 4.5653\n",
            "INFO:root:Epoch 1, batch 0/16: 4.565257549285889\n",
            "INFO:root:Epoch 1, batch 1: 4.966249942779541\n"
          ]
        },
        {
          "output_type": "stream",
          "name": "stdout",
          "text": [
            "\u001b[0;36mtime\u001b[0m:  0h  0min  0s 205ms, \u001b[0;36mremaining\u001b[0m:  0h  1min  2s 578ms, \u001b[0;33mepoch\u001b[0m:  1/50, \u001b[0;33mbatch\u001b[0m: 0/3, \u001b[0;32mpercent complete\u001b[0m:   0.33%, \u001b[0;31mavg loss\u001b[0m: 4.5653\n",
            "Epoch 1, batch 0/16: 4.565257549285889\n"
          ]
        },
        {
          "output_type": "stream",
          "name": "stderr",
          "text": [
            "INFO:root:Epoch 1, batch 2: 5.441259860992432\n",
            "INFO:root:Epoch 1, batch 3: 4.824594497680664\n",
            "INFO:root:Epoch 1, batch 4: 4.95149040222168\n",
            "INFO:root:Epoch 1, batch 5: 5.741037368774414\n",
            "INFO:root:Epoch 1, batch 6: 5.48021936416626\n",
            "INFO:root:Validating the model at the end of epoch 0 on valid dataset.\n"
          ]
        },
        {
          "output_type": "stream",
          "name": "stdout",
          "text": [
            "\n",
            "Validating the model at the end of epoch 0 on valid dataset......\n"
          ]
        },
        {
          "output_type": "stream",
          "name": "stderr",
          "text": [
            "INFO:root:Validate completed, avg loss: 4.9867.\n",
            "INFO:root:Epoch 2, batch 0: 2.611232042312622\n",
            "INFO:root:epoch: 2/50, batch: 0/3, avg loss: 2.6112\n",
            "INFO:root:Epoch 2, batch 0/16: 2.611232042312622\n"
          ]
        },
        {
          "output_type": "stream",
          "name": "stdout",
          "text": [
            "Validate completed, avg loss: 4.9867.\n",
            "\n",
            "\u001b[0;36mtime\u001b[0m:  0h  0min  4s 341ms, \u001b[0;36mremaining\u001b[0m:  0h  3min  2s 284ms, \u001b[0;33mepoch\u001b[0m:  2/50, \u001b[0;33mbatch\u001b[0m: 0/3, \u001b[0;32mpercent complete\u001b[0m:   2.33%, \u001b[0;31mavg loss\u001b[0m: 2.6112\n",
            "Epoch 2, batch 0/16: 2.611232042312622\n"
          ]
        },
        {
          "output_type": "stream",
          "name": "stderr",
          "text": [
            "INFO:root:Epoch 2, batch 1: 3.0897181034088135\n",
            "INFO:root:Epoch 2, batch 2: 3.8637263774871826\n",
            "INFO:root:Epoch 2, batch 3: 3.7549045085906982\n",
            "INFO:root:Epoch 2, batch 4: 3.5983474254608154\n",
            "INFO:root:Epoch 2, batch 5: 4.558462619781494\n",
            "INFO:root:Epoch 2, batch 6: 3.1944563388824463\n",
            "INFO:root:Validating the model at the end of epoch 1 on valid dataset.\n"
          ]
        },
        {
          "output_type": "stream",
          "name": "stdout",
          "text": [
            "\n",
            "Validating the model at the end of epoch 1 on valid dataset......\n"
          ]
        },
        {
          "output_type": "stream",
          "name": "stderr",
          "text": [
            "INFO:root:Validate completed, avg loss: 5.0393.\n",
            "INFO:root:EarlyStopping counter: 1 out of 5.\n",
            "INFO:root:Epoch 3, batch 0: 2.0610594749450684\n",
            "INFO:root:epoch: 3/50, batch: 0/3, avg loss: 2.0611\n",
            "INFO:root:Epoch 3, batch 0/16: 2.0610594749450684\n"
          ]
        },
        {
          "output_type": "stream",
          "name": "stdout",
          "text": [
            "Validate completed, avg loss: 5.0393.\n",
            "\n",
            "EarlyStopping counter: 1 out of 5.\n",
            "\n",
            "\u001b[0;36mtime\u001b[0m:  0h  0min  8s 879ms, \u001b[0;36mremaining\u001b[0m:  0h  3min 16s 353ms, \u001b[0;33mepoch\u001b[0m:  3/50, \u001b[0;33mbatch\u001b[0m: 0/3, \u001b[0;32mpercent complete\u001b[0m:   4.33%, \u001b[0;31mavg loss\u001b[0m: 2.0611\n",
            "Epoch 3, batch 0/16: 2.0610594749450684\n"
          ]
        },
        {
          "output_type": "stream",
          "name": "stderr",
          "text": [
            "INFO:root:Epoch 3, batch 1: 2.356667995452881\n",
            "INFO:root:Epoch 3, batch 2: 2.80879545211792\n",
            "INFO:root:Epoch 3, batch 3: 2.660041570663452\n",
            "INFO:root:Epoch 3, batch 4: 3.160120725631714\n",
            "INFO:root:Epoch 3, batch 5: 3.899604082107544\n",
            "INFO:root:Epoch 3, batch 6: 2.3722984790802\n",
            "INFO:root:Validating the model at the end of epoch 2 on valid dataset.\n"
          ]
        },
        {
          "output_type": "stream",
          "name": "stdout",
          "text": [
            "\n",
            "Validating the model at the end of epoch 2 on valid dataset......\n"
          ]
        },
        {
          "output_type": "stream",
          "name": "stderr",
          "text": [
            "INFO:root:Validate completed, avg loss: 5.0977.\n",
            "INFO:root:EarlyStopping counter: 2 out of 5.\n",
            "INFO:root:Epoch 4, batch 0: 1.4962140321731567\n",
            "INFO:root:epoch: 4/50, batch: 0/3, avg loss: 1.4962\n",
            "INFO:root:Epoch 4, batch 0/16: 1.4962140321731567\n"
          ]
        },
        {
          "output_type": "stream",
          "name": "stdout",
          "text": [
            "Validate completed, avg loss: 5.0977.\n",
            "\n",
            "EarlyStopping counter: 2 out of 5.\n",
            "\n",
            "\u001b[0;36mtime\u001b[0m:  0h  0min 13s  67ms, \u001b[0;36mremaining\u001b[0m:  0h  3min 13s 488ms, \u001b[0;33mepoch\u001b[0m:  4/50, \u001b[0;33mbatch\u001b[0m: 0/3, \u001b[0;32mpercent complete\u001b[0m:   6.33%, \u001b[0;31mavg loss\u001b[0m: 1.4962\n",
            "Epoch 4, batch 0/16: 1.4962140321731567\n"
          ]
        },
        {
          "output_type": "stream",
          "name": "stderr",
          "text": [
            "INFO:root:Epoch 4, batch 1: 1.9536207914352417\n",
            "INFO:root:Epoch 4, batch 2: 1.796789526939392\n",
            "INFO:root:Epoch 4, batch 3: 2.0160324573516846\n",
            "INFO:root:Epoch 4, batch 4: 2.4626035690307617\n",
            "INFO:root:Epoch 4, batch 5: 2.8629441261291504\n",
            "INFO:root:Epoch 4, batch 6: 1.620280385017395\n",
            "INFO:root:Validating the model at the end of epoch 3 on valid dataset.\n"
          ]
        },
        {
          "output_type": "stream",
          "name": "stdout",
          "text": [
            "\n",
            "Validating the model at the end of epoch 3 on valid dataset......\n"
          ]
        },
        {
          "output_type": "stream",
          "name": "stderr",
          "text": [
            "INFO:root:Validate completed, avg loss: 5.1747.\n",
            "INFO:root:EarlyStopping counter: 3 out of 5.\n",
            "INFO:root:Epoch 5, batch 0: 1.057890772819519\n",
            "INFO:root:epoch: 5/50, batch: 0/3, avg loss: 1.0579\n",
            "INFO:root:Epoch 5, batch 0/16: 1.057890772819519\n"
          ]
        },
        {
          "output_type": "stream",
          "name": "stdout",
          "text": [
            "Validate completed, avg loss: 5.1747.\n",
            "\n",
            "EarlyStopping counter: 3 out of 5.\n",
            "\n",
            "\u001b[0;36mtime\u001b[0m:  0h  0min 17s 271ms, \u001b[0;36mremaining\u001b[0m:  0h  3min 10s 154ms, \u001b[0;33mepoch\u001b[0m:  5/50, \u001b[0;33mbatch\u001b[0m: 0/3, \u001b[0;32mpercent complete\u001b[0m:   8.33%, \u001b[0;31mavg loss\u001b[0m: 1.0579\n",
            "Epoch 5, batch 0/16: 1.057890772819519\n"
          ]
        },
        {
          "output_type": "stream",
          "name": "stderr",
          "text": [
            "INFO:root:Epoch 5, batch 1: 1.5402274131774902\n",
            "INFO:root:Epoch 5, batch 2: 1.2399617433547974\n",
            "INFO:root:Epoch 5, batch 3: 1.4273931980133057\n",
            "INFO:root:Epoch 5, batch 4: 1.8860958814620972\n",
            "INFO:root:Epoch 5, batch 5: 2.242668628692627\n",
            "INFO:root:Epoch 5, batch 6: 0.9956861138343811\n",
            "INFO:root:Validating the model at the end of epoch 4 on valid dataset.\n"
          ]
        },
        {
          "output_type": "stream",
          "name": "stdout",
          "text": [
            "\n",
            "Validating the model at the end of epoch 4 on valid dataset......\n"
          ]
        },
        {
          "output_type": "stream",
          "name": "stderr",
          "text": [
            "INFO:root:Validate completed, avg loss: 5.2393.\n",
            "INFO:root:EarlyStopping counter: 4 out of 5.\n",
            "INFO:root:Epoch 6, batch 0: 0.7098202705383301\n",
            "INFO:root:epoch: 6/50, batch: 0/3, avg loss: 0.7098\n",
            "INFO:root:Epoch 6, batch 0/16: 0.7098202705383301\n"
          ]
        },
        {
          "output_type": "stream",
          "name": "stdout",
          "text": [
            "Validate completed, avg loss: 5.2393.\n",
            "\n",
            "EarlyStopping counter: 4 out of 5.\n",
            "\n",
            "\u001b[0;36mtime\u001b[0m:  0h  0min 21s 752ms, \u001b[0;36mremaining\u001b[0m:  0h  3min  8s 896ms, \u001b[0;33mepoch\u001b[0m:  6/50, \u001b[0;33mbatch\u001b[0m: 0/3, \u001b[0;32mpercent complete\u001b[0m:  10.33%, \u001b[0;31mavg loss\u001b[0m: 0.7098\n",
            "Epoch 6, batch 0/16: 0.7098202705383301\n"
          ]
        },
        {
          "output_type": "stream",
          "name": "stderr",
          "text": [
            "INFO:root:Epoch 6, batch 1: 1.0640712976455688\n",
            "INFO:root:Epoch 6, batch 2: 1.0246448516845703\n",
            "INFO:root:Epoch 6, batch 3: 1.151548981666565\n",
            "INFO:root:Epoch 6, batch 4: 1.402579665184021\n",
            "INFO:root:Epoch 6, batch 5: 1.7570091485977173\n",
            "INFO:root:Epoch 6, batch 6: 0.945101261138916\n",
            "INFO:root:Validating the model at the end of epoch 5 on valid dataset.\n"
          ]
        },
        {
          "output_type": "stream",
          "name": "stdout",
          "text": [
            "\n",
            "Validating the model at the end of epoch 5 on valid dataset......\n"
          ]
        },
        {
          "output_type": "stream",
          "name": "stderr",
          "text": [
            "INFO:root:Validate completed, avg loss: 5.3141.\n",
            "INFO:root:EarlyStopping counter: 5 out of 5.\n",
            "INFO:root:Early stop.\n"
          ]
        },
        {
          "output_type": "stream",
          "name": "stdout",
          "text": [
            "Validate completed, avg loss: 5.3141.\n",
            "\n",
            "EarlyStopping counter: 5 out of 5.\n",
            "\n",
            "Early stop.\n",
            "\n"
          ]
        },
        {
          "output_type": "stream",
          "name": "stderr",
          "text": [
            "INFO:root:Epoch 1, batch 0: 5.361385345458984\n",
            "INFO:root:epoch: 1/50, batch: 0/3, avg loss: 5.3614\n",
            "INFO:root:Epoch 1, batch 0/16: 5.361385345458984\n"
          ]
        },
        {
          "output_type": "stream",
          "name": "stdout",
          "text": [
            "\u001b[0;36mtime\u001b[0m:  0h  0min  0s 208ms, \u001b[0;36mremaining\u001b[0m:  0h  1min  3s 734ms, \u001b[0;33mepoch\u001b[0m:  1/50, \u001b[0;33mbatch\u001b[0m: 0/3, \u001b[0;32mpercent complete\u001b[0m:   0.33%, \u001b[0;31mavg loss\u001b[0m: 5.3614\n",
            "Epoch 1, batch 0/16: 5.361385345458984\n"
          ]
        },
        {
          "output_type": "stream",
          "name": "stderr",
          "text": [
            "INFO:root:Epoch 1, batch 1: 5.195060729980469\n",
            "INFO:root:Epoch 1, batch 2: 5.488667964935303\n",
            "INFO:root:Epoch 1, batch 3: 5.338207244873047\n",
            "INFO:root:Epoch 1, batch 4: 5.620096206665039\n",
            "INFO:root:Epoch 1, batch 5: 6.342580318450928\n",
            "INFO:root:Epoch 1, batch 6: 6.2807159423828125\n",
            "INFO:root:Validating the model at the end of epoch 0 on valid dataset.\n"
          ]
        },
        {
          "output_type": "stream",
          "name": "stdout",
          "text": [
            "\n",
            "Validating the model at the end of epoch 0 on valid dataset......\n"
          ]
        },
        {
          "output_type": "stream",
          "name": "stderr",
          "text": [
            "INFO:root:Validate completed, avg loss: 5.4586.\n",
            "INFO:root:Epoch 2, batch 0: 3.275956869125366\n",
            "INFO:root:epoch: 2/50, batch: 0/3, avg loss: 3.2760\n",
            "INFO:root:Epoch 2, batch 0/16: 3.275956869125366\n"
          ]
        },
        {
          "output_type": "stream",
          "name": "stdout",
          "text": [
            "Validate completed, avg loss: 5.4586.\n",
            "\n",
            "\u001b[0;36mtime\u001b[0m:  0h  0min  4s 503ms, \u001b[0;36mremaining\u001b[0m:  0h  3min  9s  77ms, \u001b[0;33mepoch\u001b[0m:  2/50, \u001b[0;33mbatch\u001b[0m: 0/3, \u001b[0;32mpercent complete\u001b[0m:   2.33%, \u001b[0;31mavg loss\u001b[0m: 3.2760\n",
            "Epoch 2, batch 0/16: 3.275956869125366\n"
          ]
        },
        {
          "output_type": "stream",
          "name": "stderr",
          "text": [
            "INFO:root:Epoch 2, batch 1: 3.4755609035491943\n",
            "INFO:root:Epoch 2, batch 2: 3.988724708557129\n",
            "INFO:root:Epoch 2, batch 3: 4.062846660614014\n",
            "INFO:root:Epoch 2, batch 4: 4.1401214599609375\n",
            "INFO:root:Epoch 2, batch 5: 4.929018497467041\n",
            "INFO:root:Epoch 2, batch 6: 4.004624366760254\n",
            "INFO:root:Validating the model at the end of epoch 1 on valid dataset.\n"
          ]
        },
        {
          "output_type": "stream",
          "name": "stdout",
          "text": [
            "\n",
            "Validating the model at the end of epoch 1 on valid dataset......\n"
          ]
        },
        {
          "output_type": "stream",
          "name": "stderr",
          "text": [
            "INFO:root:Validate completed, avg loss: 5.4039.\n",
            "INFO:root:Epoch 3, batch 0: 2.373081922531128\n",
            "INFO:root:epoch: 3/50, batch: 0/3, avg loss: 2.3731\n",
            "INFO:root:Epoch 3, batch 0/16: 2.373081922531128\n"
          ]
        },
        {
          "output_type": "stream",
          "name": "stdout",
          "text": [
            "Validate completed, avg loss: 5.4039.\n",
            "\n",
            "\u001b[0;36mtime\u001b[0m:  0h  0min  9s 137ms, \u001b[0;36mremaining\u001b[0m:  0h  3min 22s  65ms, \u001b[0;33mepoch\u001b[0m:  3/50, \u001b[0;33mbatch\u001b[0m: 0/3, \u001b[0;32mpercent complete\u001b[0m:   4.33%, \u001b[0;31mavg loss\u001b[0m: 2.3731\n",
            "Epoch 3, batch 0/16: 2.373081922531128\n"
          ]
        },
        {
          "output_type": "stream",
          "name": "stderr",
          "text": [
            "INFO:root:Epoch 3, batch 1: 2.453951835632324\n",
            "INFO:root:Epoch 3, batch 2: 3.0042309761047363\n",
            "INFO:root:Epoch 3, batch 3: 2.8782782554626465\n",
            "INFO:root:Epoch 3, batch 4: 3.0042037963867188\n",
            "INFO:root:Epoch 3, batch 5: 3.982945203781128\n",
            "INFO:root:Epoch 3, batch 6: 2.261465549468994\n",
            "INFO:root:Validating the model at the end of epoch 2 on valid dataset.\n"
          ]
        },
        {
          "output_type": "stream",
          "name": "stdout",
          "text": [
            "\n",
            "Validating the model at the end of epoch 2 on valid dataset......\n"
          ]
        },
        {
          "output_type": "stream",
          "name": "stderr",
          "text": [
            "INFO:root:Validate completed, avg loss: 5.4268.\n",
            "INFO:root:EarlyStopping counter: 1 out of 5.\n",
            "INFO:root:Epoch 4, batch 0: 1.6070977449417114\n",
            "INFO:root:epoch: 4/50, batch: 0/3, avg loss: 1.6071\n",
            "INFO:root:Epoch 4, batch 0/16: 1.6070977449417114\n"
          ]
        },
        {
          "output_type": "stream",
          "name": "stdout",
          "text": [
            "Validate completed, avg loss: 5.4268.\n",
            "\n",
            "EarlyStopping counter: 1 out of 5.\n",
            "\n",
            "\u001b[0;36mtime\u001b[0m:  0h  0min 13s 432ms, \u001b[0;36mremaining\u001b[0m:  0h  3min 18s 886ms, \u001b[0;33mepoch\u001b[0m:  4/50, \u001b[0;33mbatch\u001b[0m: 0/3, \u001b[0;32mpercent complete\u001b[0m:   6.33%, \u001b[0;31mavg loss\u001b[0m: 1.6071\n",
            "Epoch 4, batch 0/16: 1.6070977449417114\n"
          ]
        },
        {
          "output_type": "stream",
          "name": "stderr",
          "text": [
            "INFO:root:Epoch 4, batch 1: 1.6756010055541992\n",
            "INFO:root:Epoch 4, batch 2: 2.1287832260131836\n",
            "INFO:root:Epoch 4, batch 3: 2.627075433731079\n",
            "INFO:root:Epoch 4, batch 4: 2.661447048187256\n",
            "INFO:root:Epoch 4, batch 5: 3.641855239868164\n",
            "INFO:root:Epoch 4, batch 6: 1.3210111856460571\n",
            "INFO:root:Validating the model at the end of epoch 3 on valid dataset.\n"
          ]
        },
        {
          "output_type": "stream",
          "name": "stdout",
          "text": [
            "\n",
            "Validating the model at the end of epoch 3 on valid dataset......\n"
          ]
        },
        {
          "output_type": "stream",
          "name": "stderr",
          "text": [
            "INFO:root:Validate completed, avg loss: 5.4422.\n",
            "INFO:root:EarlyStopping counter: 2 out of 5.\n",
            "INFO:root:Epoch 5, batch 0: 1.3033946752548218\n",
            "INFO:root:epoch: 5/50, batch: 0/3, avg loss: 1.3034\n",
            "INFO:root:Epoch 5, batch 0/16: 1.3033946752548218\n"
          ]
        },
        {
          "output_type": "stream",
          "name": "stdout",
          "text": [
            "Validate completed, avg loss: 5.4422.\n",
            "\n",
            "EarlyStopping counter: 2 out of 5.\n",
            "\n",
            "\u001b[0;36mtime\u001b[0m:  0h  0min 17s 790ms, \u001b[0;36mremaining\u001b[0m:  0h  3min 15s 872ms, \u001b[0;33mepoch\u001b[0m:  5/50, \u001b[0;33mbatch\u001b[0m: 0/3, \u001b[0;32mpercent complete\u001b[0m:   8.33%, \u001b[0;31mavg loss\u001b[0m: 1.3034\n",
            "Epoch 5, batch 0/16: 1.3033946752548218\n"
          ]
        },
        {
          "output_type": "stream",
          "name": "stderr",
          "text": [
            "INFO:root:Epoch 5, batch 1: 1.2662603855133057\n",
            "INFO:root:Epoch 5, batch 2: 1.4366605281829834\n",
            "INFO:root:Epoch 5, batch 3: 1.8631161451339722\n",
            "INFO:root:Epoch 5, batch 4: 1.8809362649917603\n",
            "INFO:root:Epoch 5, batch 5: 2.954932928085327\n",
            "INFO:root:Epoch 5, batch 6: 0.8914727568626404\n",
            "INFO:root:Validating the model at the end of epoch 4 on valid dataset.\n"
          ]
        },
        {
          "output_type": "stream",
          "name": "stdout",
          "text": [
            "\n",
            "Validating the model at the end of epoch 4 on valid dataset......\n"
          ]
        },
        {
          "output_type": "stream",
          "name": "stderr",
          "text": [
            "INFO:root:Validate completed, avg loss: 5.5058.\n",
            "INFO:root:EarlyStopping counter: 3 out of 5.\n",
            "INFO:root:Epoch 6, batch 0: 0.7359707951545715\n",
            "INFO:root:epoch: 6/50, batch: 0/3, avg loss: 0.7360\n",
            "INFO:root:Epoch 6, batch 0/16: 0.7359707951545715\n"
          ]
        },
        {
          "output_type": "stream",
          "name": "stdout",
          "text": [
            "Validate completed, avg loss: 5.5058.\n",
            "\n",
            "EarlyStopping counter: 3 out of 5.\n",
            "\n",
            "\u001b[0;36mtime\u001b[0m:  0h  0min 22s 474ms, \u001b[0;36mremaining\u001b[0m:  0h  3min 15s 163ms, \u001b[0;33mepoch\u001b[0m:  6/50, \u001b[0;33mbatch\u001b[0m: 0/3, \u001b[0;32mpercent complete\u001b[0m:  10.33%, \u001b[0;31mavg loss\u001b[0m: 0.7360\n",
            "Epoch 6, batch 0/16: 0.7359707951545715\n"
          ]
        },
        {
          "output_type": "stream",
          "name": "stderr",
          "text": [
            "INFO:root:Epoch 6, batch 1: 1.182511568069458\n",
            "INFO:root:Epoch 6, batch 2: 0.9007622003555298\n",
            "INFO:root:Epoch 6, batch 3: 1.1963645219802856\n",
            "INFO:root:Epoch 6, batch 4: 1.9208117723464966\n",
            "INFO:root:Epoch 6, batch 5: 2.168076992034912\n",
            "INFO:root:Epoch 6, batch 6: 1.288365125656128\n",
            "INFO:root:Validating the model at the end of epoch 5 on valid dataset.\n"
          ]
        },
        {
          "output_type": "stream",
          "name": "stdout",
          "text": [
            "\n",
            "Validating the model at the end of epoch 5 on valid dataset......\n"
          ]
        },
        {
          "output_type": "stream",
          "name": "stderr",
          "text": [
            "INFO:root:Validate completed, avg loss: 5.5695.\n",
            "INFO:root:EarlyStopping counter: 4 out of 5.\n",
            "INFO:root:Epoch 7, batch 0: 0.4733405113220215\n",
            "INFO:root:epoch: 7/50, batch: 0/3, avg loss: 0.4733\n",
            "INFO:root:Epoch 7, batch 0/16: 0.4733405113220215\n"
          ]
        },
        {
          "output_type": "stream",
          "name": "stdout",
          "text": [
            "Validate completed, avg loss: 5.5695.\n",
            "\n",
            "EarlyStopping counter: 4 out of 5.\n",
            "\n",
            "\u001b[0;36mtime\u001b[0m:  0h  0min 26s 822ms, \u001b[0;36mremaining\u001b[0m:  0h  3min 10s 778ms, \u001b[0;33mepoch\u001b[0m:  7/50, \u001b[0;33mbatch\u001b[0m: 0/3, \u001b[0;32mpercent complete\u001b[0m:  12.33%, \u001b[0;31mavg loss\u001b[0m: 0.4733\n",
            "Epoch 7, batch 0/16: 0.4733405113220215\n"
          ]
        },
        {
          "output_type": "stream",
          "name": "stderr",
          "text": [
            "INFO:root:Epoch 7, batch 1: 0.6216421723365784\n",
            "INFO:root:Epoch 7, batch 2: 0.5188450813293457\n",
            "INFO:root:Epoch 7, batch 3: 0.9817452430725098\n",
            "INFO:root:Epoch 7, batch 4: 1.1796307563781738\n",
            "INFO:root:Epoch 7, batch 5: 1.8285996913909912\n",
            "INFO:root:Epoch 7, batch 6: 0.3478472828865051\n",
            "INFO:root:Validating the model at the end of epoch 6 on valid dataset.\n"
          ]
        },
        {
          "output_type": "stream",
          "name": "stdout",
          "text": [
            "\n",
            "Validating the model at the end of epoch 6 on valid dataset......\n"
          ]
        },
        {
          "output_type": "stream",
          "name": "stderr",
          "text": [
            "INFO:root:Validate completed, avg loss: 5.6293.\n",
            "INFO:root:EarlyStopping counter: 5 out of 5.\n",
            "INFO:root:Early stop.\n"
          ]
        },
        {
          "output_type": "stream",
          "name": "stdout",
          "text": [
            "Validate completed, avg loss: 5.6293.\n",
            "\n",
            "EarlyStopping counter: 5 out of 5.\n",
            "\n",
            "Early stop.\n",
            "\n",
            "MAML: \n",
            "Baseline: \n"
          ]
        },
        {
          "output_type": "display_data",
          "data": {
            "text/plain": [
              "<Figure size 640x480 with 1 Axes>"
            ],
            "image/png": "[encoded data removed]"
          },
          "metadata": {}
        },
        {
          "output_type": "display_data",
          "data": {
            "text/plain": [
              "<Figure size 640x480 with 1 Axes>"
            ],
            "image/png": "[encoded data removed]"
          },
          "metadata": {}
        },
        {
          "output_type": "display_data",
          "data": {
            "text/plain": [
              "<Figure size 640x480 with 1 Axes>"
            ],
            "image/png": "[encoded data removed]"
          },
          "metadata": {}
        }
      ]
    },
    {
      "cell_type": "code",
      "source": [
        "get_attention_by_project('flink',100,0,181,'./result_images/flink_meta_100_0_181_ast.pdf','./result_images/flink_baseline_100_0_181_ast.pdf',True)"
      ],
      "metadata": {
        "colab": {
          "base_uri": "https://localhost:8080/",
          "height": 1000
        },
        "id": "Ex8Ew_NkzADL",
        "outputId": "917ee3be-518e-4118-cffd-6a0eeb5cda9b"
      },
      "execution_count": 30,
      "outputs": [
        {
          "output_type": "stream",
          "name": "stderr",
          "text": [
            "INFO:root:Epoch 1, batch 0: 4.793586254119873\n",
            "INFO:root:epoch: 1/50, batch: 0/3, avg loss: 4.7936\n",
            "INFO:root:Epoch 1, batch 0/16: 4.793586254119873\n"
          ]
        },
        {
          "output_type": "stream",
          "name": "stdout",
          "text": [
            "\u001b[0;36mtime\u001b[0m:  0h  0min  0s 219ms, \u001b[0;36mremaining\u001b[0m:  0h  1min  6s 929ms, \u001b[0;33mepoch\u001b[0m:  1/50, \u001b[0;33mbatch\u001b[0m: 0/3, \u001b[0;32mpercent complete\u001b[0m:   0.33%, \u001b[0;31mavg loss\u001b[0m: 4.7936\n",
            "Epoch 1, batch 0/16: 4.793586254119873\n"
          ]
        },
        {
          "output_type": "stream",
          "name": "stderr",
          "text": [
            "INFO:root:Epoch 1, batch 1: 5.024664402008057\n",
            "INFO:root:Epoch 1, batch 2: 4.858006477355957\n",
            "INFO:root:Epoch 1, batch 3: 5.383723258972168\n",
            "INFO:root:Epoch 1, batch 4: 4.760840892791748\n",
            "INFO:root:Epoch 1, batch 5: 5.619877338409424\n",
            "INFO:root:Epoch 1, batch 6: 5.611396789550781\n",
            "INFO:root:Validating the model at the end of epoch 0 on valid dataset.\n"
          ]
        },
        {
          "output_type": "stream",
          "name": "stdout",
          "text": [
            "\n",
            "Validating the model at the end of epoch 0 on valid dataset......\n"
          ]
        },
        {
          "output_type": "stream",
          "name": "stderr",
          "text": [
            "INFO:root:Validate completed, avg loss: 4.9666.\n",
            "INFO:root:Epoch 2, batch 0: 2.8333277702331543\n",
            "INFO:root:epoch: 2/50, batch: 0/3, avg loss: 2.8333\n",
            "INFO:root:Epoch 2, batch 0/16: 2.8333277702331543\n"
          ]
        },
        {
          "output_type": "stream",
          "name": "stdout",
          "text": [
            "Validate completed, avg loss: 4.9666.\n",
            "\n",
            "\u001b[0;36mtime\u001b[0m:  0h  0min  4s 931ms, \u001b[0;36mremaining\u001b[0m:  0h  3min 27s  52ms, \u001b[0;33mepoch\u001b[0m:  2/50, \u001b[0;33mbatch\u001b[0m: 0/3, \u001b[0;32mpercent complete\u001b[0m:   2.33%, \u001b[0;31mavg loss\u001b[0m: 2.8333\n",
            "Epoch 2, batch 0/16: 2.8333277702331543\n"
          ]
        },
        {
          "output_type": "stream",
          "name": "stderr",
          "text": [
            "INFO:root:Epoch 2, batch 1: 3.117300271987915\n",
            "INFO:root:Epoch 2, batch 2: 3.5449130535125732\n",
            "INFO:root:Epoch 2, batch 3: 3.689790725708008\n",
            "INFO:root:Epoch 2, batch 4: 3.869710922241211\n",
            "INFO:root:Epoch 2, batch 5: 4.4239373207092285\n",
            "INFO:root:Epoch 2, batch 6: 3.337364912033081\n",
            "INFO:root:Validating the model at the end of epoch 1 on valid dataset.\n"
          ]
        },
        {
          "output_type": "stream",
          "name": "stdout",
          "text": [
            "\n",
            "Validating the model at the end of epoch 1 on valid dataset......\n"
          ]
        },
        {
          "output_type": "stream",
          "name": "stderr",
          "text": [
            "INFO:root:Validate completed, avg loss: 5.0261.\n",
            "INFO:root:EarlyStopping counter: 1 out of 5.\n",
            "INFO:root:Epoch 3, batch 0: 2.063615322113037\n",
            "INFO:root:epoch: 3/50, batch: 0/3, avg loss: 2.0636\n",
            "INFO:root:Epoch 3, batch 0/16: 2.063615322113037\n"
          ]
        },
        {
          "output_type": "stream",
          "name": "stdout",
          "text": [
            "Validate completed, avg loss: 5.0261.\n",
            "\n",
            "EarlyStopping counter: 1 out of 5.\n",
            "\n",
            "\u001b[0;36mtime\u001b[0m:  0h  0min  9s 335ms, \u001b[0;36mremaining\u001b[0m:  0h  3min 26s 440ms, \u001b[0;33mepoch\u001b[0m:  3/50, \u001b[0;33mbatch\u001b[0m: 0/3, \u001b[0;32mpercent complete\u001b[0m:   4.33%, \u001b[0;31mavg loss\u001b[0m: 2.0636\n",
            "Epoch 3, batch 0/16: 2.063615322113037\n"
          ]
        },
        {
          "output_type": "stream",
          "name": "stderr",
          "text": [
            "INFO:root:Epoch 3, batch 1: 2.7604665756225586\n",
            "INFO:root:Epoch 3, batch 2: 2.6286232471466064\n",
            "INFO:root:Epoch 3, batch 3: 3.11616849899292\n",
            "INFO:root:Epoch 3, batch 4: 2.9350104331970215\n",
            "INFO:root:Epoch 3, batch 5: 4.013908386230469\n",
            "INFO:root:Epoch 3, batch 6: 2.03527569770813\n",
            "INFO:root:Validating the model at the end of epoch 2 on valid dataset.\n"
          ]
        },
        {
          "output_type": "stream",
          "name": "stdout",
          "text": [
            "\n",
            "Validating the model at the end of epoch 2 on valid dataset......\n"
          ]
        },
        {
          "output_type": "stream",
          "name": "stderr",
          "text": [
            "INFO:root:Validate completed, avg loss: 5.0910.\n",
            "INFO:root:EarlyStopping counter: 2 out of 5.\n",
            "INFO:root:Epoch 4, batch 0: 1.3472377061843872\n",
            "INFO:root:epoch: 4/50, batch: 0/3, avg loss: 1.3472\n",
            "INFO:root:Epoch 4, batch 0/16: 1.3472377061843872\n"
          ]
        },
        {
          "output_type": "stream",
          "name": "stdout",
          "text": [
            "Validate completed, avg loss: 5.0910.\n",
            "\n",
            "EarlyStopping counter: 2 out of 5.\n",
            "\n",
            "\u001b[0;36mtime\u001b[0m:  0h  0min 13s 815ms, \u001b[0;36mremaining\u001b[0m:  0h  3min 24s 560ms, \u001b[0;33mepoch\u001b[0m:  4/50, \u001b[0;33mbatch\u001b[0m: 0/3, \u001b[0;32mpercent complete\u001b[0m:   6.33%, \u001b[0;31mavg loss\u001b[0m: 1.3472\n",
            "Epoch 4, batch 0/16: 1.3472377061843872\n"
          ]
        },
        {
          "output_type": "stream",
          "name": "stderr",
          "text": [
            "INFO:root:Epoch 4, batch 1: 1.7528318166732788\n",
            "INFO:root:Epoch 4, batch 2: 1.801630973815918\n",
            "INFO:root:Epoch 4, batch 3: 2.3277604579925537\n",
            "INFO:root:Epoch 4, batch 4: 2.5751569271087646\n",
            "INFO:root:Epoch 4, batch 5: 2.88812255859375\n",
            "INFO:root:Epoch 4, batch 6: 1.8157809972763062\n",
            "INFO:root:Validating the model at the end of epoch 3 on valid dataset.\n"
          ]
        },
        {
          "output_type": "stream",
          "name": "stdout",
          "text": [
            "\n",
            "Validating the model at the end of epoch 3 on valid dataset......\n"
          ]
        },
        {
          "output_type": "stream",
          "name": "stderr",
          "text": [
            "INFO:root:Validate completed, avg loss: 5.1474.\n",
            "INFO:root:EarlyStopping counter: 3 out of 5.\n",
            "INFO:root:Epoch 5, batch 0: 1.1639692783355713\n",
            "INFO:root:epoch: 5/50, batch: 0/3, avg loss: 1.1640\n",
            "INFO:root:Epoch 5, batch 0/16: 1.1639692783355713\n"
          ]
        },
        {
          "output_type": "stream",
          "name": "stdout",
          "text": [
            "Validate completed, avg loss: 5.1474.\n",
            "\n",
            "EarlyStopping counter: 3 out of 5.\n",
            "\n",
            "\u001b[0;36mtime\u001b[0m:  0h  0min 18s 626ms, \u001b[0;36mremaining\u001b[0m:  0h  3min 25s  69ms, \u001b[0;33mepoch\u001b[0m:  5/50, \u001b[0;33mbatch\u001b[0m: 0/3, \u001b[0;32mpercent complete\u001b[0m:   8.33%, \u001b[0;31mavg loss\u001b[0m: 1.1640\n",
            "Epoch 5, batch 0/16: 1.1639692783355713\n"
          ]
        },
        {
          "output_type": "stream",
          "name": "stderr",
          "text": [
            "INFO:root:Epoch 5, batch 1: 1.2058136463165283\n",
            "INFO:root:Epoch 5, batch 2: 1.5211162567138672\n",
            "INFO:root:Epoch 5, batch 3: 1.7019610404968262\n",
            "INFO:root:Epoch 5, batch 4: 1.843612551689148\n",
            "INFO:root:Epoch 5, batch 5: 1.9761592149734497\n",
            "INFO:root:Epoch 5, batch 6: 1.8420368432998657\n",
            "INFO:root:Validating the model at the end of epoch 4 on valid dataset.\n"
          ]
        },
        {
          "output_type": "stream",
          "name": "stdout",
          "text": [
            "\n",
            "Validating the model at the end of epoch 4 on valid dataset......\n"
          ]
        },
        {
          "output_type": "stream",
          "name": "stderr",
          "text": [
            "INFO:root:Validate completed, avg loss: 5.2155.\n",
            "INFO:root:EarlyStopping counter: 4 out of 5.\n",
            "INFO:root:Epoch 6, batch 0: 0.668171226978302\n",
            "INFO:root:epoch: 6/50, batch: 0/3, avg loss: 0.6682\n",
            "INFO:root:Epoch 6, batch 0/16: 0.668171226978302\n"
          ]
        },
        {
          "output_type": "stream",
          "name": "stdout",
          "text": [
            "Validate completed, avg loss: 5.2155.\n",
            "\n",
            "EarlyStopping counter: 4 out of 5.\n",
            "\n",
            "\u001b[0;36mtime\u001b[0m:  0h  0min 23s  77ms, \u001b[0;36mremaining\u001b[0m:  0h  3min 20s 402ms, \u001b[0;33mepoch\u001b[0m:  6/50, \u001b[0;33mbatch\u001b[0m: 0/3, \u001b[0;32mpercent complete\u001b[0m:  10.33%, \u001b[0;31mavg loss\u001b[0m: 0.6682\n",
            "Epoch 6, batch 0/16: 0.668171226978302\n"
          ]
        },
        {
          "output_type": "stream",
          "name": "stderr",
          "text": [
            "INFO:root:Epoch 6, batch 1: 1.0901449918746948\n",
            "INFO:root:Epoch 6, batch 2: 1.3059684038162231\n",
            "INFO:root:Epoch 6, batch 3: 1.1700091361999512\n",
            "INFO:root:Epoch 6, batch 4: 1.427243947982788\n",
            "INFO:root:Epoch 6, batch 5: 2.041471481323242\n",
            "INFO:root:Epoch 6, batch 6: 1.4332290887832642\n",
            "INFO:root:Validating the model at the end of epoch 5 on valid dataset.\n"
          ]
        },
        {
          "output_type": "stream",
          "name": "stdout",
          "text": [
            "\n",
            "Validating the model at the end of epoch 5 on valid dataset......\n"
          ]
        },
        {
          "output_type": "stream",
          "name": "stderr",
          "text": [
            "INFO:root:Validate completed, avg loss: 5.2690.\n",
            "INFO:root:EarlyStopping counter: 5 out of 5.\n",
            "INFO:root:Early stop.\n"
          ]
        },
        {
          "output_type": "stream",
          "name": "stdout",
          "text": [
            "Validate completed, avg loss: 5.2690.\n",
            "\n",
            "EarlyStopping counter: 5 out of 5.\n",
            "\n",
            "Early stop.\n",
            "\n"
          ]
        },
        {
          "output_type": "stream",
          "name": "stderr",
          "text": [
            "INFO:root:Epoch 1, batch 0: 5.494290351867676\n",
            "INFO:root:epoch: 1/50, batch: 0/3, avg loss: 5.4943\n",
            "INFO:root:Epoch 1, batch 0/16: 5.494290351867676\n"
          ]
        },
        {
          "output_type": "stream",
          "name": "stdout",
          "text": [
            "\u001b[0;36mtime\u001b[0m:  0h  0min  0s 204ms, \u001b[0;36mremaining\u001b[0m:  0h  1min  2s 275ms, \u001b[0;33mepoch\u001b[0m:  1/50, \u001b[0;33mbatch\u001b[0m: 0/3, \u001b[0;32mpercent complete\u001b[0m:   0.33%, \u001b[0;31mavg loss\u001b[0m: 5.4943\n",
            "Epoch 1, batch 0/16: 5.494290351867676\n"
          ]
        },
        {
          "output_type": "stream",
          "name": "stderr",
          "text": [
            "INFO:root:Epoch 1, batch 1: 5.724609375\n",
            "INFO:root:Epoch 1, batch 2: 5.386053562164307\n",
            "INFO:root:Epoch 1, batch 3: 5.690939426422119\n",
            "INFO:root:Epoch 1, batch 4: 5.189314365386963\n",
            "INFO:root:Epoch 1, batch 5: 6.171000957489014\n",
            "INFO:root:Epoch 1, batch 6: 6.490727424621582\n",
            "INFO:root:Validating the model at the end of epoch 0 on valid dataset.\n"
          ]
        },
        {
          "output_type": "stream",
          "name": "stdout",
          "text": [
            "\n",
            "Validating the model at the end of epoch 0 on valid dataset......\n"
          ]
        },
        {
          "output_type": "stream",
          "name": "stderr",
          "text": [
            "INFO:root:Validate completed, avg loss: 5.4090.\n",
            "INFO:root:Epoch 2, batch 0: 3.0439202785491943\n",
            "INFO:root:epoch: 2/50, batch: 0/3, avg loss: 3.0439\n",
            "INFO:root:Epoch 2, batch 0/16: 3.0439202785491943\n"
          ]
        },
        {
          "output_type": "stream",
          "name": "stdout",
          "text": [
            "Validate completed, avg loss: 5.4090.\n",
            "\n",
            "\u001b[0;36mtime\u001b[0m:  0h  0min  4s 716ms, \u001b[0;36mremaining\u001b[0m:  0h  3min 18s  30ms, \u001b[0;33mepoch\u001b[0m:  2/50, \u001b[0;33mbatch\u001b[0m: 0/3, \u001b[0;32mpercent complete\u001b[0m:   2.33%, \u001b[0;31mavg loss\u001b[0m: 3.0439\n",
            "Epoch 2, batch 0/16: 3.0439202785491943\n"
          ]
        },
        {
          "output_type": "stream",
          "name": "stderr",
          "text": [
            "INFO:root:Epoch 2, batch 1: 4.038215160369873\n",
            "INFO:root:Epoch 2, batch 2: 4.014558792114258\n",
            "INFO:root:Epoch 2, batch 3: 4.142535209655762\n",
            "INFO:root:Epoch 2, batch 4: 4.09485387802124\n",
            "INFO:root:Epoch 2, batch 5: 4.992831707000732\n",
            "INFO:root:Epoch 2, batch 6: 3.733272075653076\n",
            "INFO:root:Validating the model at the end of epoch 1 on valid dataset.\n"
          ]
        },
        {
          "output_type": "stream",
          "name": "stdout",
          "text": [
            "\n",
            "Validating the model at the end of epoch 1 on valid dataset......\n"
          ]
        },
        {
          "output_type": "stream",
          "name": "stderr",
          "text": [
            "INFO:root:Validate completed, avg loss: 5.3878.\n",
            "INFO:root:Epoch 3, batch 0: 2.2648088932037354\n",
            "INFO:root:epoch: 3/50, batch: 0/3, avg loss: 2.2648\n",
            "INFO:root:Epoch 3, batch 0/16: 2.2648088932037354\n"
          ]
        },
        {
          "output_type": "stream",
          "name": "stdout",
          "text": [
            "Validate completed, avg loss: 5.3878.\n",
            "\n",
            "\u001b[0;36mtime\u001b[0m:  0h  0min  9s 203ms, \u001b[0;36mremaining\u001b[0m:  0h  3min 23s 519ms, \u001b[0;33mepoch\u001b[0m:  3/50, \u001b[0;33mbatch\u001b[0m: 0/3, \u001b[0;32mpercent complete\u001b[0m:   4.33%, \u001b[0;31mavg loss\u001b[0m: 2.2648\n",
            "Epoch 3, batch 0/16: 2.2648088932037354\n"
          ]
        },
        {
          "output_type": "stream",
          "name": "stderr",
          "text": [
            "INFO:root:Epoch 3, batch 1: 2.9943573474884033\n",
            "INFO:root:Epoch 3, batch 2: 2.8247246742248535\n",
            "INFO:root:Epoch 3, batch 3: 3.3373076915740967\n",
            "INFO:root:Epoch 3, batch 4: 3.2477142810821533\n",
            "INFO:root:Epoch 3, batch 5: 3.7195534706115723\n",
            "INFO:root:Epoch 3, batch 6: 3.2108254432678223\n",
            "INFO:root:Validating the model at the end of epoch 2 on valid dataset.\n"
          ]
        },
        {
          "output_type": "stream",
          "name": "stdout",
          "text": [
            "\n",
            "Validating the model at the end of epoch 2 on valid dataset......\n"
          ]
        },
        {
          "output_type": "stream",
          "name": "stderr",
          "text": [
            "INFO:root:Validate completed, avg loss: 5.4183.\n",
            "INFO:root:EarlyStopping counter: 1 out of 5.\n",
            "INFO:root:Epoch 4, batch 0: 1.8733882904052734\n",
            "INFO:root:epoch: 4/50, batch: 0/3, avg loss: 1.8734\n",
            "INFO:root:Epoch 4, batch 0/16: 1.8733882904052734\n"
          ]
        },
        {
          "output_type": "stream",
          "name": "stdout",
          "text": [
            "Validate completed, avg loss: 5.4183.\n",
            "\n",
            "EarlyStopping counter: 1 out of 5.\n",
            "\n",
            "\u001b[0;36mtime\u001b[0m:  0h  0min 14s  75ms, \u001b[0;36mremaining\u001b[0m:  0h  3min 28s 408ms, \u001b[0;33mepoch\u001b[0m:  4/50, \u001b[0;33mbatch\u001b[0m: 0/3, \u001b[0;32mpercent complete\u001b[0m:   6.33%, \u001b[0;31mavg loss\u001b[0m: 1.8734\n",
            "Epoch 4, batch 0/16: 1.8733882904052734\n"
          ]
        },
        {
          "output_type": "stream",
          "name": "stderr",
          "text": [
            "INFO:root:Epoch 4, batch 1: 2.42806339263916\n",
            "INFO:root:Epoch 4, batch 2: 2.558593511581421\n",
            "INFO:root:Epoch 4, batch 3: 2.399275541305542\n",
            "INFO:root:Epoch 4, batch 4: 2.505197286605835\n",
            "INFO:root:Epoch 4, batch 5: 3.201115846633911\n",
            "INFO:root:Epoch 4, batch 6: 1.469426155090332\n",
            "INFO:root:Validating the model at the end of epoch 3 on valid dataset.\n"
          ]
        },
        {
          "output_type": "stream",
          "name": "stdout",
          "text": [
            "\n",
            "Validating the model at the end of epoch 3 on valid dataset......\n"
          ]
        },
        {
          "output_type": "stream",
          "name": "stderr",
          "text": [
            "INFO:root:Validate completed, avg loss: 5.4489.\n",
            "INFO:root:EarlyStopping counter: 2 out of 5.\n",
            "INFO:root:Epoch 5, batch 0: 1.0614981651306152\n",
            "INFO:root:epoch: 5/50, batch: 0/3, avg loss: 1.0615\n",
            "INFO:root:Epoch 5, batch 0/16: 1.0614981651306152\n"
          ]
        },
        {
          "output_type": "stream",
          "name": "stdout",
          "text": [
            "Validate completed, avg loss: 5.4489.\n",
            "\n",
            "EarlyStopping counter: 2 out of 5.\n",
            "\n",
            "\u001b[0;36mtime\u001b[0m:  0h  0min 18s 561ms, \u001b[0;36mremaining\u001b[0m:  0h  3min 24s 356ms, \u001b[0;33mepoch\u001b[0m:  5/50, \u001b[0;33mbatch\u001b[0m: 0/3, \u001b[0;32mpercent complete\u001b[0m:   8.33%, \u001b[0;31mavg loss\u001b[0m: 1.0615\n",
            "Epoch 5, batch 0/16: 1.0614981651306152\n"
          ]
        },
        {
          "output_type": "stream",
          "name": "stderr",
          "text": [
            "INFO:root:Epoch 5, batch 1: 1.5804299116134644\n",
            "INFO:root:Epoch 5, batch 2: 1.849387288093567\n",
            "INFO:root:Epoch 5, batch 3: 1.9277894496917725\n",
            "INFO:root:Epoch 5, batch 4: 2.164278507232666\n",
            "INFO:root:Epoch 5, batch 5: 3.1572115421295166\n",
            "INFO:root:Epoch 5, batch 6: 1.8836240768432617\n",
            "INFO:root:Validating the model at the end of epoch 4 on valid dataset.\n"
          ]
        },
        {
          "output_type": "stream",
          "name": "stdout",
          "text": [
            "\n",
            "Validating the model at the end of epoch 4 on valid dataset......\n"
          ]
        },
        {
          "output_type": "stream",
          "name": "stderr",
          "text": [
            "INFO:root:Validate completed, avg loss: 5.5040.\n",
            "INFO:root:EarlyStopping counter: 3 out of 5.\n",
            "INFO:root:Epoch 6, batch 0: 0.8203873038291931\n",
            "INFO:root:epoch: 6/50, batch: 0/3, avg loss: 0.8204\n",
            "INFO:root:Epoch 6, batch 0/16: 0.8203873038291931\n"
          ]
        },
        {
          "output_type": "stream",
          "name": "stdout",
          "text": [
            "Validate completed, avg loss: 5.5040.\n",
            "\n",
            "EarlyStopping counter: 3 out of 5.\n",
            "\n",
            "\u001b[0;36mtime\u001b[0m:  0h  0min 23s  26ms, \u001b[0;36mremaining\u001b[0m:  0h  3min 19s 960ms, \u001b[0;33mepoch\u001b[0m:  6/50, \u001b[0;33mbatch\u001b[0m: 0/3, \u001b[0;32mpercent complete\u001b[0m:  10.33%, \u001b[0;31mavg loss\u001b[0m: 0.8204\n",
            "Epoch 6, batch 0/16: 0.8203873038291931\n"
          ]
        },
        {
          "output_type": "stream",
          "name": "stderr",
          "text": [
            "INFO:root:Epoch 6, batch 1: 1.1164162158966064\n",
            "INFO:root:Epoch 6, batch 2: 1.1355855464935303\n",
            "INFO:root:Epoch 6, batch 3: 1.7366129159927368\n",
            "INFO:root:Epoch 6, batch 4: 1.427481770515442\n",
            "INFO:root:Epoch 6, batch 5: 2.093977212905884\n",
            "INFO:root:Epoch 6, batch 6: 1.326583743095398\n",
            "INFO:root:Validating the model at the end of epoch 5 on valid dataset.\n"
          ]
        },
        {
          "output_type": "stream",
          "name": "stdout",
          "text": [
            "\n",
            "Validating the model at the end of epoch 5 on valid dataset......\n"
          ]
        },
        {
          "output_type": "stream",
          "name": "stderr",
          "text": [
            "INFO:root:Validate completed, avg loss: 5.5540.\n",
            "INFO:root:EarlyStopping counter: 4 out of 5.\n",
            "INFO:root:Epoch 7, batch 0: 0.4668348729610443\n",
            "INFO:root:epoch: 7/50, batch: 0/3, avg loss: 0.4668\n",
            "INFO:root:Epoch 7, batch 0/16: 0.4668348729610443\n"
          ]
        },
        {
          "output_type": "stream",
          "name": "stdout",
          "text": [
            "Validate completed, avg loss: 5.5540.\n",
            "\n",
            "EarlyStopping counter: 4 out of 5.\n",
            "\n",
            "\u001b[0;36mtime\u001b[0m:  0h  0min 27s 855ms, \u001b[0;36mremaining\u001b[0m:  0h  3min 18s 126ms, \u001b[0;33mepoch\u001b[0m:  7/50, \u001b[0;33mbatch\u001b[0m: 0/3, \u001b[0;32mpercent complete\u001b[0m:  12.33%, \u001b[0;31mavg loss\u001b[0m: 0.4668\n",
            "Epoch 7, batch 0/16: 0.4668348729610443\n"
          ]
        },
        {
          "output_type": "stream",
          "name": "stderr",
          "text": [
            "INFO:root:Epoch 7, batch 1: 0.8523613214492798\n",
            "INFO:root:Epoch 7, batch 2: 0.7802656292915344\n",
            "INFO:root:Epoch 7, batch 3: 1.1863131523132324\n",
            "INFO:root:Epoch 7, batch 4: 1.5458186864852905\n",
            "INFO:root:Epoch 7, batch 5: 1.565264344215393\n",
            "INFO:root:Epoch 7, batch 6: 0.6752466559410095\n",
            "INFO:root:Validating the model at the end of epoch 6 on valid dataset.\n"
          ]
        },
        {
          "output_type": "stream",
          "name": "stdout",
          "text": [
            "\n",
            "Validating the model at the end of epoch 6 on valid dataset......\n"
          ]
        },
        {
          "output_type": "stream",
          "name": "stderr",
          "text": [
            "INFO:root:Validate completed, avg loss: 5.6097.\n",
            "INFO:root:EarlyStopping counter: 5 out of 5.\n",
            "INFO:root:Early stop.\n"
          ]
        },
        {
          "output_type": "stream",
          "name": "stdout",
          "text": [
            "Validate completed, avg loss: 5.6097.\n",
            "\n",
            "EarlyStopping counter: 5 out of 5.\n",
            "\n",
            "Early stop.\n",
            "\n",
            "MAML: \n",
            "Baseline: \n"
          ]
        },
        {
          "output_type": "display_data",
          "data": {
            "text/plain": [
              "<Figure size 640x480 with 1 Axes>"
            ],
            "image/png": "[encoded data removed]"
          },
          "metadata": {}
        },
        {
          "output_type": "display_data",
          "data": {
            "text/plain": [
              "<Figure size 640x480 with 1 Axes>"
            ],
            "image/png": "[encoded data removed]"
          },
          "metadata": {}
        },
        {
          "output_type": "display_data",
          "data": {
            "text/plain": [
              "<Figure size 640x480 with 1 Axes>"
            ],
            "image/png": "[encoded data removed]"
          },
          "metadata": {}
        }
      ]
    },
    {
      "cell_type": "code",
      "source": [
        "get_attention_by_project('flink',400,0,181,'./result_images/flink_meta_400_0_181.pdf','./result_images/flink_baseline_400_0_181.pdf')"
      ],
      "metadata": {
        "colab": {
          "base_uri": "https://localhost:8080/",
          "height": 1000
        },
        "id": "6-Pcyimhka6t",
        "outputId": "f5f2670d-c719-4072-fe08-9c0554a5ca19"
      },
      "execution_count": null,
      "outputs": [
        {
          "output_type": "stream",
          "name": "stderr",
          "text": [
            "INFO:root:Epoch 1, batch 0: 4.838161945343018\n",
            "INFO:root:epoch: 1/50, batch: 0/12, avg loss: 4.8382\n",
            "INFO:root:Epoch 1, batch 0/16: 4.838161945343018\n"
          ]
        },
        {
          "output_type": "stream",
          "name": "stdout",
          "text": [
            "\u001b[0;36mtime\u001b[0m:  0h  0min  0s 195ms, \u001b[0;36mremaining\u001b[0m:  0h  3min 57s 295ms, \u001b[0;33mepoch\u001b[0m:  1/50, \u001b[0;33mbatch\u001b[0m:  0/12, \u001b[0;32mpercent complete\u001b[0m:   0.08%, \u001b[0;31mavg loss\u001b[0m: 4.8382\n",
            "Epoch 1, batch 0/16: 4.838161945343018\n"
          ]
        },
        {
          "output_type": "stream",
          "name": "stderr",
          "text": [
            "INFO:root:Epoch 1, batch 1: 4.954337120056152\n",
            "INFO:root:Epoch 1, batch 2: 5.334076404571533\n",
            "INFO:root:Epoch 1, batch 3: 5.021461009979248\n",
            "INFO:root:Epoch 1, batch 4: 4.743349075317383\n",
            "INFO:root:Epoch 1, batch 5: 5.707622528076172\n",
            "INFO:root:Epoch 1, batch 6: 5.531663417816162\n",
            "INFO:root:Epoch 1, batch 7: 5.674394607543945\n",
            "INFO:root:Epoch 1, batch 8: 5.13041353225708\n",
            "INFO:root:Epoch 1, batch 9: 5.518092155456543\n",
            "INFO:root:Epoch 1, batch 10: 5.188002109527588\n",
            "INFO:root:Epoch 1, batch 11: 4.720458984375\n",
            "INFO:root:Epoch 1, batch 12: 5.308498859405518\n",
            "INFO:root:Epoch 1, batch 13: 5.418187141418457\n",
            "INFO:root:Epoch 1, batch 14: 5.119688987731934\n",
            "INFO:root:Epoch 1, batch 15: 4.985753059387207\n",
            "INFO:root:Epoch 1, batch 16: 5.229535102844238\n",
            "INFO:root:Epoch 1, batch 17: 5.476597309112549\n",
            "INFO:root:Epoch 1, batch 18: 5.3291215896606445\n",
            "INFO:root:Epoch 1, batch 19: 4.885552883148193\n",
            "INFO:root:Epoch 1, batch 20: 5.5582075119018555\n",
            "INFO:root:Epoch 1, batch 21: 4.771005153656006\n",
            "INFO:root:Epoch 1, batch 22: 4.731052398681641\n",
            "INFO:root:Epoch 1, batch 23: 5.0247368812561035\n",
            "INFO:root:Epoch 1, batch 24: 5.1037750244140625\n",
            "INFO:root:Validating the model at the end of epoch 0 on valid dataset.\n"
          ]
        },
        {
          "output_type": "stream",
          "name": "stdout",
          "text": [
            "\n",
            "Validating the model at the end of epoch 0 on valid dataset......\n"
          ]
        },
        {
          "output_type": "stream",
          "name": "stderr",
          "text": [
            "INFO:root:Validate completed, avg loss: 5.0047.\n",
            "INFO:root:Epoch 2, batch 0: 2.885500907897949\n",
            "INFO:root:epoch: 2/50, batch: 0/12, avg loss: 2.8855\n",
            "INFO:root:Epoch 2, batch 0/16: 2.885500907897949\n"
          ]
        },
        {
          "output_type": "stream",
          "name": "stdout",
          "text": [
            "Validate completed, avg loss: 5.0047.\n",
            "\n",
            "\u001b[0;36mtime\u001b[0m:  0h  0min  7s 784ms, \u001b[0;36mremaining\u001b[0m:  0h  6min  6s  47ms, \u001b[0;33mepoch\u001b[0m:  2/50, \u001b[0;33mbatch\u001b[0m:  0/12, \u001b[0;32mpercent complete\u001b[0m:   2.08%, \u001b[0;31mavg loss\u001b[0m: 2.8855\n",
            "Epoch 2, batch 0/16: 2.885500907897949\n"
          ]
        },
        {
          "output_type": "stream",
          "name": "stderr",
          "text": [
            "INFO:root:Epoch 2, batch 1: 3.17844557762146\n",
            "INFO:root:Epoch 2, batch 2: 3.412752389907837\n",
            "INFO:root:Epoch 2, batch 3: 3.3150970935821533\n",
            "INFO:root:Epoch 2, batch 4: 3.320894956588745\n",
            "INFO:root:Epoch 2, batch 5: 3.9922385215759277\n",
            "INFO:root:Epoch 2, batch 6: 3.7002909183502197\n",
            "INFO:root:Epoch 2, batch 7: 3.8998422622680664\n",
            "INFO:root:Epoch 2, batch 8: 3.6115524768829346\n",
            "INFO:root:Epoch 2, batch 9: 4.021778106689453\n",
            "INFO:root:Epoch 2, batch 10: 3.6702513694763184\n",
            "INFO:root:Epoch 2, batch 11: 3.3787496089935303\n",
            "INFO:root:Epoch 2, batch 12: 4.124844551086426\n",
            "INFO:root:Epoch 2, batch 13: 3.7419726848602295\n",
            "INFO:root:Epoch 2, batch 14: 3.7651004791259766\n",
            "INFO:root:Epoch 2, batch 15: 3.6182589530944824\n",
            "INFO:root:Epoch 2, batch 16: 4.409669876098633\n",
            "INFO:root:Epoch 2, batch 17: 3.8880879878997803\n",
            "INFO:root:Epoch 2, batch 18: 4.406420707702637\n",
            "INFO:root:Epoch 2, batch 19: 3.3628361225128174\n",
            "INFO:root:Epoch 2, batch 20: 4.384144306182861\n",
            "INFO:root:Epoch 2, batch 21: 3.993779420852661\n",
            "INFO:root:Epoch 2, batch 22: 3.1137571334838867\n",
            "INFO:root:Epoch 2, batch 23: 4.33028507232666\n",
            "INFO:root:Epoch 2, batch 24: 2.878783941268921\n",
            "INFO:root:Validating the model at the end of epoch 1 on valid dataset.\n"
          ]
        },
        {
          "output_type": "stream",
          "name": "stdout",
          "text": [
            "\n",
            "Validating the model at the end of epoch 1 on valid dataset......\n"
          ]
        },
        {
          "output_type": "stream",
          "name": "stderr",
          "text": [
            "INFO:root:Validate completed, avg loss: 5.0979.\n",
            "INFO:root:EarlyStopping counter: 1 out of 5.\n",
            "INFO:root:Epoch 3, batch 0: 1.9103926420211792\n",
            "INFO:root:epoch: 3/50, batch: 0/12, avg loss: 1.9104\n",
            "INFO:root:Epoch 3, batch 0/16: 1.9103926420211792\n"
          ]
        },
        {
          "output_type": "stream",
          "name": "stdout",
          "text": [
            "Validate completed, avg loss: 5.0979.\n",
            "\n",
            "EarlyStopping counter: 1 out of 5.\n",
            "\n",
            "\u001b[0;36mtime\u001b[0m:  0h  0min 15s 366ms, \u001b[0;36mremaining\u001b[0m:  0h  6min  1s  61ms, \u001b[0;33mepoch\u001b[0m:  3/50, \u001b[0;33mbatch\u001b[0m:  0/12, \u001b[0;32mpercent complete\u001b[0m:   4.08%, \u001b[0;31mavg loss\u001b[0m: 1.9104\n",
            "Epoch 3, batch 0/16: 1.9103926420211792\n"
          ]
        },
        {
          "output_type": "stream",
          "name": "stderr",
          "text": [
            "INFO:root:Epoch 3, batch 1: 2.1148905754089355\n",
            "INFO:root:Epoch 3, batch 2: 2.7181499004364014\n",
            "INFO:root:Epoch 3, batch 3: 2.4806976318359375\n",
            "INFO:root:Epoch 3, batch 4: 2.510906934738159\n",
            "INFO:root:Epoch 3, batch 5: 3.2304396629333496\n",
            "INFO:root:Epoch 3, batch 6: 3.2246577739715576\n",
            "INFO:root:Epoch 3, batch 7: 3.0969178676605225\n",
            "INFO:root:Epoch 3, batch 8: 2.888305425643921\n",
            "INFO:root:Epoch 3, batch 9: 3.64023756980896\n",
            "INFO:root:Epoch 3, batch 10: 2.8477227687835693\n",
            "INFO:root:Epoch 3, batch 11: 2.5880753993988037\n",
            "INFO:root:Epoch 3, batch 12: 3.0988993644714355\n",
            "INFO:root:Epoch 3, batch 13: 2.6035070419311523\n",
            "INFO:root:Epoch 3, batch 14: 2.9587814807891846\n",
            "INFO:root:Epoch 3, batch 15: 2.684276580810547\n",
            "INFO:root:Epoch 3, batch 16: 2.535367488861084\n",
            "INFO:root:Epoch 3, batch 17: 3.0514848232269287\n",
            "INFO:root:Epoch 3, batch 18: 3.0519983768463135\n",
            "INFO:root:Epoch 3, batch 19: 2.7283833026885986\n",
            "INFO:root:Epoch 3, batch 20: 3.564208984375\n",
            "INFO:root:Epoch 3, batch 21: 3.0995137691497803\n",
            "INFO:root:Epoch 3, batch 22: 2.3173654079437256\n",
            "INFO:root:Epoch 3, batch 23: 3.2174463272094727\n",
            "INFO:root:Epoch 3, batch 24: 1.8980485200881958\n",
            "INFO:root:Validating the model at the end of epoch 2 on valid dataset.\n"
          ]
        },
        {
          "output_type": "stream",
          "name": "stdout",
          "text": [
            "\n",
            "Validating the model at the end of epoch 2 on valid dataset......\n"
          ]
        },
        {
          "output_type": "stream",
          "name": "stderr",
          "text": [
            "INFO:root:Validate completed, avg loss: 5.2824.\n",
            "INFO:root:EarlyStopping counter: 2 out of 5.\n",
            "INFO:root:Epoch 4, batch 0: 1.1537505388259888\n",
            "INFO:root:epoch: 4/50, batch: 0/12, avg loss: 1.1538\n",
            "INFO:root:Epoch 4, batch 0/16: 1.1537505388259888\n"
          ]
        },
        {
          "output_type": "stream",
          "name": "stdout",
          "text": [
            "Validate completed, avg loss: 5.2824.\n",
            "\n",
            "EarlyStopping counter: 2 out of 5.\n",
            "\n",
            "\u001b[0;36mtime\u001b[0m:  0h  0min 23s 166ms, \u001b[0;36mremaining\u001b[0m:  0h  5min 57s 715ms, \u001b[0;33mepoch\u001b[0m:  4/50, \u001b[0;33mbatch\u001b[0m:  0/12, \u001b[0;32mpercent complete\u001b[0m:   6.08%, \u001b[0;31mavg loss\u001b[0m: 1.1538\n",
            "Epoch 4, batch 0/16: 1.1537505388259888\n"
          ]
        },
        {
          "output_type": "stream",
          "name": "stderr",
          "text": [
            "INFO:root:Epoch 4, batch 1: 1.6402496099472046\n",
            "INFO:root:Epoch 4, batch 2: 1.7711858749389648\n",
            "INFO:root:Epoch 4, batch 3: 1.6748080253601074\n",
            "INFO:root:Epoch 4, batch 4: 1.986190915107727\n",
            "INFO:root:Epoch 4, batch 5: 2.530799150466919\n",
            "INFO:root:Epoch 4, batch 6: 2.66473388671875\n",
            "INFO:root:Epoch 4, batch 7: 2.787614583969116\n",
            "INFO:root:Epoch 4, batch 8: 2.1989905834198\n",
            "INFO:root:Epoch 4, batch 9: 2.8179118633270264\n",
            "INFO:root:Epoch 4, batch 10: 1.906398892402649\n",
            "INFO:root:Epoch 4, batch 11: 2.020054578781128\n",
            "INFO:root:Epoch 4, batch 12: 2.4884631633758545\n",
            "INFO:root:Epoch 4, batch 13: 1.9495282173156738\n",
            "INFO:root:Epoch 4, batch 14: 2.065751552581787\n",
            "INFO:root:Epoch 4, batch 15: 1.9497299194335938\n",
            "INFO:root:Epoch 4, batch 16: 1.8745551109313965\n",
            "INFO:root:Epoch 4, batch 17: 2.0241096019744873\n",
            "INFO:root:Epoch 4, batch 18: 2.0341436862945557\n",
            "INFO:root:Epoch 4, batch 19: 1.8786871433258057\n",
            "INFO:root:Epoch 4, batch 20: 2.6992924213409424\n",
            "INFO:root:Epoch 4, batch 21: 2.1976099014282227\n",
            "INFO:root:Epoch 4, batch 22: 1.7256046533584595\n",
            "INFO:root:Epoch 4, batch 23: 3.198730945587158\n",
            "INFO:root:Epoch 4, batch 24: 1.142338752746582\n",
            "INFO:root:Validating the model at the end of epoch 3 on valid dataset.\n"
          ]
        },
        {
          "output_type": "stream",
          "name": "stdout",
          "text": [
            "\n",
            "Validating the model at the end of epoch 3 on valid dataset......\n"
          ]
        },
        {
          "output_type": "stream",
          "name": "stderr",
          "text": [
            "INFO:root:Validate completed, avg loss: 5.3882.\n",
            "INFO:root:EarlyStopping counter: 3 out of 5.\n",
            "INFO:root:Epoch 5, batch 0: 0.748460590839386\n",
            "INFO:root:epoch: 5/50, batch: 0/12, avg loss: 0.7485\n",
            "INFO:root:Epoch 5, batch 0/16: 0.748460590839386\n"
          ]
        },
        {
          "output_type": "stream",
          "name": "stdout",
          "text": [
            "Validate completed, avg loss: 5.3882.\n",
            "\n",
            "EarlyStopping counter: 3 out of 5.\n",
            "\n",
            "\u001b[0;36mtime\u001b[0m:  0h  0min 30s 667ms, \u001b[0;36mremaining\u001b[0m:  0h  5min 48s 779ms, \u001b[0;33mepoch\u001b[0m:  5/50, \u001b[0;33mbatch\u001b[0m:  0/12, \u001b[0;32mpercent complete\u001b[0m:   8.08%, \u001b[0;31mavg loss\u001b[0m: 0.7485\n",
            "Epoch 5, batch 0/16: 0.748460590839386\n"
          ]
        },
        {
          "output_type": "stream",
          "name": "stderr",
          "text": [
            "INFO:root:Epoch 5, batch 1: 1.0689294338226318\n",
            "INFO:root:Epoch 5, batch 2: 1.2499333620071411\n",
            "INFO:root:Epoch 5, batch 3: 1.2565503120422363\n",
            "INFO:root:Epoch 5, batch 4: 1.6476070880889893\n",
            "INFO:root:Epoch 5, batch 5: 2.0263116359710693\n",
            "INFO:root:Epoch 5, batch 6: 1.5002211332321167\n",
            "INFO:root:Epoch 5, batch 7: 1.9982984066009521\n",
            "INFO:root:Epoch 5, batch 8: 1.7016626596450806\n",
            "INFO:root:Epoch 5, batch 9: 1.938330054283142\n",
            "INFO:root:Epoch 5, batch 10: 1.339669108390808\n",
            "INFO:root:Epoch 5, batch 11: 1.6057747602462769\n",
            "INFO:root:Epoch 5, batch 12: 1.7233211994171143\n",
            "INFO:root:Epoch 5, batch 13: 1.7314471006393433\n",
            "INFO:root:Epoch 5, batch 14: 2.083120822906494\n",
            "INFO:root:Epoch 5, batch 15: 1.8879005908966064\n",
            "INFO:root:Epoch 5, batch 16: 1.2814874649047852\n",
            "INFO:root:Epoch 5, batch 17: 1.921046257019043\n",
            "INFO:root:Epoch 5, batch 18: 1.525643229484558\n",
            "INFO:root:Epoch 5, batch 19: 1.2435967922210693\n",
            "INFO:root:Epoch 5, batch 20: 2.2811529636383057\n",
            "INFO:root:Epoch 5, batch 21: 1.7005995512008667\n",
            "INFO:root:Epoch 5, batch 22: 1.1025214195251465\n",
            "INFO:root:Epoch 5, batch 23: 2.4427754878997803\n",
            "INFO:root:Epoch 5, batch 24: 0.6866070032119751\n",
            "INFO:root:Validating the model at the end of epoch 4 on valid dataset.\n"
          ]
        },
        {
          "output_type": "stream",
          "name": "stdout",
          "text": [
            "\n",
            "Validating the model at the end of epoch 4 on valid dataset......\n"
          ]
        },
        {
          "output_type": "stream",
          "name": "stderr",
          "text": [
            "INFO:root:Validate completed, avg loss: 5.4490.\n",
            "INFO:root:EarlyStopping counter: 4 out of 5.\n",
            "INFO:root:Epoch 6, batch 0: 0.662507176399231\n",
            "INFO:root:epoch: 6/50, batch: 0/12, avg loss: 0.6625\n",
            "INFO:root:Epoch 6, batch 0/16: 0.662507176399231\n"
          ]
        },
        {
          "output_type": "stream",
          "name": "stdout",
          "text": [
            "Validate completed, avg loss: 5.4490.\n",
            "\n",
            "EarlyStopping counter: 4 out of 5.\n",
            "\n",
            "\u001b[0;36mtime\u001b[0m:  0h  0min 38s 594ms, \u001b[0;36mremaining\u001b[0m:  0h  5min 44s 199ms, \u001b[0;33mepoch\u001b[0m:  6/50, \u001b[0;33mbatch\u001b[0m:  0/12, \u001b[0;32mpercent complete\u001b[0m:  10.08%, \u001b[0;31mavg loss\u001b[0m: 0.6625\n",
            "Epoch 6, batch 0/16: 0.662507176399231\n"
          ]
        },
        {
          "output_type": "stream",
          "name": "stderr",
          "text": [
            "INFO:root:Epoch 6, batch 1: 1.026757836341858\n",
            "INFO:root:Epoch 6, batch 2: 0.8856601119041443\n",
            "INFO:root:Epoch 6, batch 3: 0.8867801427841187\n",
            "INFO:root:Epoch 6, batch 4: 1.6799920797348022\n",
            "INFO:root:Epoch 6, batch 5: 1.6209425926208496\n",
            "INFO:root:Epoch 6, batch 6: 1.4044214487075806\n",
            "INFO:root:Epoch 6, batch 7: 1.5569214820861816\n",
            "INFO:root:Epoch 6, batch 8: 1.3967293500900269\n",
            "INFO:root:Epoch 6, batch 9: 1.8642492294311523\n",
            "INFO:root:Epoch 6, batch 10: 1.2452459335327148\n",
            "INFO:root:Epoch 6, batch 11: 1.2583682537078857\n",
            "INFO:root:Epoch 6, batch 12: 1.3225077390670776\n",
            "INFO:root:Epoch 6, batch 13: 1.3952233791351318\n",
            "INFO:root:Epoch 6, batch 14: 1.6276330947875977\n",
            "INFO:root:Epoch 6, batch 15: 1.7197120189666748\n",
            "INFO:root:Epoch 6, batch 16: 1.1645492315292358\n",
            "INFO:root:Epoch 6, batch 17: 1.3522030115127563\n",
            "INFO:root:Epoch 6, batch 18: 1.4771674871444702\n",
            "INFO:root:Epoch 6, batch 19: 0.9454138278961182\n",
            "INFO:root:Epoch 6, batch 20: 2.1603755950927734\n",
            "INFO:root:Epoch 6, batch 21: 1.5539671182632446\n",
            "INFO:root:Epoch 6, batch 22: 0.7524805068969727\n",
            "INFO:root:Epoch 6, batch 23: 1.5970609188079834\n",
            "INFO:root:Epoch 6, batch 24: 0.6243225336074829\n",
            "INFO:root:Validating the model at the end of epoch 5 on valid dataset.\n"
          ]
        },
        {
          "output_type": "stream",
          "name": "stdout",
          "text": [
            "\n",
            "Validating the model at the end of epoch 5 on valid dataset......\n"
          ]
        },
        {
          "output_type": "stream",
          "name": "stderr",
          "text": [
            "INFO:root:Validate completed, avg loss: 5.5700.\n",
            "INFO:root:EarlyStopping counter: 5 out of 5.\n",
            "INFO:root:Early stop.\n"
          ]
        },
        {
          "output_type": "stream",
          "name": "stdout",
          "text": [
            "Validate completed, avg loss: 5.5700.\n",
            "\n",
            "EarlyStopping counter: 5 out of 5.\n",
            "\n",
            "Early stop.\n",
            "\n"
          ]
        },
        {
          "output_type": "stream",
          "name": "stderr",
          "text": [
            "INFO:root:Epoch 1, batch 0: 5.507927417755127\n",
            "INFO:root:epoch: 1/50, batch: 0/12, avg loss: 5.5079\n",
            "INFO:root:Epoch 1, batch 0/16: 5.507927417755127\n"
          ]
        },
        {
          "output_type": "stream",
          "name": "stdout",
          "text": [
            "\u001b[0;36mtime\u001b[0m:  0h  0min  0s 214ms, \u001b[0;36mremaining\u001b[0m:  0h  4min 20s 331ms, \u001b[0;33mepoch\u001b[0m:  1/50, \u001b[0;33mbatch\u001b[0m:  0/12, \u001b[0;32mpercent complete\u001b[0m:   0.08%, \u001b[0;31mavg loss\u001b[0m: 5.5079\n",
            "Epoch 1, batch 0/16: 5.507927417755127\n"
          ]
        },
        {
          "output_type": "stream",
          "name": "stderr",
          "text": [
            "INFO:root:Epoch 1, batch 1: 5.496847152709961\n",
            "INFO:root:Epoch 1, batch 2: 5.698339462280273\n",
            "INFO:root:Epoch 1, batch 3: 5.439168453216553\n",
            "INFO:root:Epoch 1, batch 4: 5.501027584075928\n",
            "INFO:root:Epoch 1, batch 5: 5.9358296394348145\n",
            "INFO:root:Epoch 1, batch 6: 6.0096516609191895\n",
            "INFO:root:Epoch 1, batch 7: 5.9802727699279785\n",
            "INFO:root:Epoch 1, batch 8: 5.443583011627197\n",
            "INFO:root:Epoch 1, batch 9: 6.076956748962402\n",
            "INFO:root:Epoch 1, batch 10: 5.086793422698975\n",
            "INFO:root:Epoch 1, batch 11: 5.203708648681641\n",
            "INFO:root:Epoch 1, batch 12: 6.100757122039795\n",
            "INFO:root:Epoch 1, batch 13: 5.870704650878906\n",
            "INFO:root:Epoch 1, batch 14: 5.571444034576416\n",
            "INFO:root:Epoch 1, batch 15: 5.264257907867432\n",
            "INFO:root:Epoch 1, batch 16: 5.735483646392822\n",
            "INFO:root:Epoch 1, batch 17: 5.698781967163086\n",
            "INFO:root:Epoch 1, batch 18: 5.815433025360107\n",
            "INFO:root:Epoch 1, batch 19: 4.983686447143555\n",
            "INFO:root:Epoch 1, batch 20: 6.192154884338379\n",
            "INFO:root:Epoch 1, batch 21: 5.1715407371521\n",
            "INFO:root:Epoch 1, batch 22: 5.594152450561523\n",
            "INFO:root:Epoch 1, batch 23: 5.187737941741943\n",
            "INFO:root:Epoch 1, batch 24: 5.63936710357666\n",
            "INFO:root:Validating the model at the end of epoch 0 on valid dataset.\n"
          ]
        },
        {
          "output_type": "stream",
          "name": "stdout",
          "text": [
            "\n",
            "Validating the model at the end of epoch 0 on valid dataset......\n"
          ]
        },
        {
          "output_type": "stream",
          "name": "stderr",
          "text": [
            "INFO:root:Validate completed, avg loss: 5.2997.\n",
            "INFO:root:Epoch 2, batch 0: 3.2323267459869385\n",
            "INFO:root:epoch: 2/50, batch: 0/12, avg loss: 3.2323\n",
            "INFO:root:Epoch 2, batch 0/16: 3.2323267459869385\n"
          ]
        },
        {
          "output_type": "stream",
          "name": "stdout",
          "text": [
            "Validate completed, avg loss: 5.2997.\n",
            "\n",
            "\u001b[0;36mtime\u001b[0m:  0h  0min  7s 884ms, \u001b[0;36mremaining\u001b[0m:  0h  6min 10s 761ms, \u001b[0;33mepoch\u001b[0m:  2/50, \u001b[0;33mbatch\u001b[0m:  0/12, \u001b[0;32mpercent complete\u001b[0m:   2.08%, \u001b[0;31mavg loss\u001b[0m: 3.2323\n",
            "Epoch 2, batch 0/16: 3.2323267459869385\n"
          ]
        },
        {
          "output_type": "stream",
          "name": "stderr",
          "text": [
            "INFO:root:Epoch 2, batch 1: 3.8372790813446045\n",
            "INFO:root:Epoch 2, batch 2: 3.780374526977539\n",
            "INFO:root:Epoch 2, batch 3: 3.7663581371307373\n",
            "INFO:root:Epoch 2, batch 4: 3.7903618812561035\n",
            "INFO:root:Epoch 2, batch 5: 4.30370569229126\n",
            "INFO:root:Epoch 2, batch 6: 4.574629306793213\n",
            "INFO:root:Epoch 2, batch 7: 4.121118545532227\n",
            "INFO:root:Epoch 2, batch 8: 3.909144163131714\n",
            "INFO:root:Epoch 2, batch 9: 4.2728962898254395\n",
            "INFO:root:Epoch 2, batch 10: 4.128981590270996\n",
            "INFO:root:Epoch 2, batch 11: 3.603464365005493\n",
            "INFO:root:Epoch 2, batch 12: 4.350616455078125\n",
            "INFO:root:Epoch 2, batch 13: 3.8394784927368164\n",
            "INFO:root:Epoch 2, batch 14: 4.262173652648926\n",
            "INFO:root:Epoch 2, batch 15: 3.563507318496704\n",
            "INFO:root:Epoch 2, batch 16: 3.931354284286499\n",
            "INFO:root:Epoch 2, batch 17: 4.114508152008057\n",
            "INFO:root:Epoch 2, batch 18: 4.3022050857543945\n",
            "INFO:root:Epoch 2, batch 19: 3.61535906791687\n",
            "INFO:root:Epoch 2, batch 20: 4.7426018714904785\n",
            "INFO:root:Epoch 2, batch 21: 4.16920804977417\n",
            "INFO:root:Epoch 2, batch 22: 3.711528778076172\n",
            "INFO:root:Epoch 2, batch 23: 4.836421012878418\n",
            "INFO:root:Epoch 2, batch 24: 3.0712692737579346\n",
            "INFO:root:Validating the model at the end of epoch 1 on valid dataset.\n"
          ]
        },
        {
          "output_type": "stream",
          "name": "stdout",
          "text": [
            "\n",
            "Validating the model at the end of epoch 1 on valid dataset......\n"
          ]
        },
        {
          "output_type": "stream",
          "name": "stderr",
          "text": [
            "INFO:root:Validate completed, avg loss: 5.3095.\n",
            "INFO:root:EarlyStopping counter: 1 out of 5.\n",
            "INFO:root:Epoch 3, batch 0: 2.2328834533691406\n",
            "INFO:root:epoch: 3/50, batch: 0/12, avg loss: 2.2329\n",
            "INFO:root:Epoch 3, batch 0/16: 2.2328834533691406\n"
          ]
        },
        {
          "output_type": "stream",
          "name": "stdout",
          "text": [
            "Validate completed, avg loss: 5.3095.\n",
            "\n",
            "EarlyStopping counter: 1 out of 5.\n",
            "\n",
            "\u001b[0;36mtime\u001b[0m:  0h  0min 15s 893ms, \u001b[0;36mremaining\u001b[0m:  0h  6min 13s 441ms, \u001b[0;33mepoch\u001b[0m:  3/50, \u001b[0;33mbatch\u001b[0m:  0/12, \u001b[0;32mpercent complete\u001b[0m:   4.08%, \u001b[0;31mavg loss\u001b[0m: 2.2329\n",
            "Epoch 3, batch 0/16: 2.2328834533691406\n"
          ]
        },
        {
          "output_type": "stream",
          "name": "stderr",
          "text": [
            "INFO:root:Epoch 3, batch 1: 2.2904253005981445\n",
            "INFO:root:Epoch 3, batch 2: 2.553173780441284\n",
            "INFO:root:Epoch 3, batch 3: 3.095079183578491\n",
            "INFO:root:Epoch 3, batch 4: 2.873901605606079\n",
            "INFO:root:Epoch 3, batch 5: 3.536442756652832\n",
            "INFO:root:Epoch 3, batch 6: 3.781405210494995\n",
            "INFO:root:Epoch 3, batch 7: 3.134986162185669\n",
            "INFO:root:Epoch 3, batch 8: 3.3793389797210693\n",
            "INFO:root:Epoch 3, batch 9: 4.110877990722656\n",
            "INFO:root:Epoch 3, batch 10: 2.985687017440796\n",
            "INFO:root:Epoch 3, batch 11: 2.7141075134277344\n",
            "INFO:root:Epoch 3, batch 12: 3.2278263568878174\n",
            "INFO:root:Epoch 3, batch 13: 2.8809471130371094\n",
            "INFO:root:Epoch 3, batch 14: 3.1366045475006104\n",
            "INFO:root:Epoch 3, batch 15: 3.1905517578125\n",
            "INFO:root:Epoch 3, batch 16: 3.207354784011841\n",
            "INFO:root:Epoch 3, batch 17: 2.62849760055542\n",
            "INFO:root:Epoch 3, batch 18: 3.4391393661499023\n",
            "INFO:root:Epoch 3, batch 19: 2.803762435913086\n",
            "INFO:root:Epoch 3, batch 20: 4.139880180358887\n",
            "INFO:root:Epoch 3, batch 21: 2.9533369541168213\n",
            "INFO:root:Epoch 3, batch 22: 2.6941564083099365\n",
            "INFO:root:Epoch 3, batch 23: 3.4292497634887695\n",
            "INFO:root:Epoch 3, batch 24: 1.9125405550003052\n",
            "INFO:root:Validating the model at the end of epoch 2 on valid dataset.\n"
          ]
        },
        {
          "output_type": "stream",
          "name": "stdout",
          "text": [
            "\n",
            "Validating the model at the end of epoch 2 on valid dataset......\n"
          ]
        },
        {
          "output_type": "stream",
          "name": "stderr",
          "text": [
            "INFO:root:Validate completed, avg loss: 5.4486.\n",
            "INFO:root:EarlyStopping counter: 2 out of 5.\n",
            "INFO:root:Epoch 4, batch 0: 1.7192237377166748\n",
            "INFO:root:epoch: 4/50, batch: 0/12, avg loss: 1.7192\n",
            "INFO:root:Epoch 4, batch 0/16: 1.7192237377166748\n"
          ]
        },
        {
          "output_type": "stream",
          "name": "stdout",
          "text": [
            "Validate completed, avg loss: 5.4486.\n",
            "\n",
            "EarlyStopping counter: 2 out of 5.\n",
            "\n",
            "\u001b[0;36mtime\u001b[0m:  0h  0min 23s 578ms, \u001b[0;36mremaining\u001b[0m:  0h  6min  4s  75ms, \u001b[0;33mepoch\u001b[0m:  4/50, \u001b[0;33mbatch\u001b[0m:  0/12, \u001b[0;32mpercent complete\u001b[0m:   6.08%, \u001b[0;31mavg loss\u001b[0m: 1.7192\n",
            "Epoch 4, batch 0/16: 1.7192237377166748\n"
          ]
        },
        {
          "output_type": "stream",
          "name": "stderr",
          "text": [
            "INFO:root:Epoch 4, batch 1: 1.6621205806732178\n",
            "INFO:root:Epoch 4, batch 2: 2.1696956157684326\n",
            "INFO:root:Epoch 4, batch 3: 2.3677902221679688\n",
            "INFO:root:Epoch 4, batch 4: 2.298395872116089\n",
            "INFO:root:Epoch 4, batch 5: 2.7454898357391357\n",
            "INFO:root:Epoch 4, batch 6: 2.3610458374023438\n",
            "INFO:root:Epoch 4, batch 7: 2.9474921226501465\n",
            "INFO:root:Epoch 4, batch 8: 2.1920065879821777\n",
            "INFO:root:Epoch 4, batch 9: 2.711913824081421\n",
            "INFO:root:Epoch 4, batch 10: 2.2917075157165527\n",
            "INFO:root:Epoch 4, batch 11: 2.0247762203216553\n",
            "INFO:root:Epoch 4, batch 12: 2.579824924468994\n",
            "INFO:root:Epoch 4, batch 13: 2.378683567047119\n",
            "INFO:root:Epoch 4, batch 14: 2.5462255477905273\n",
            "INFO:root:Epoch 4, batch 15: 1.983707308769226\n",
            "INFO:root:Epoch 4, batch 16: 2.02740216255188\n",
            "INFO:root:Epoch 4, batch 17: 2.2158007621765137\n",
            "INFO:root:Epoch 4, batch 18: 2.5756969451904297\n",
            "INFO:root:Epoch 4, batch 19: 1.9460883140563965\n",
            "INFO:root:Epoch 4, batch 20: 2.889930486679077\n",
            "INFO:root:Epoch 4, batch 21: 2.559669017791748\n",
            "INFO:root:Epoch 4, batch 22: 2.044950485229492\n",
            "INFO:root:Epoch 4, batch 23: 2.9615137577056885\n",
            "INFO:root:Epoch 4, batch 24: 1.8345658779144287\n",
            "INFO:root:Validating the model at the end of epoch 3 on valid dataset.\n"
          ]
        },
        {
          "output_type": "stream",
          "name": "stdout",
          "text": [
            "\n",
            "Validating the model at the end of epoch 3 on valid dataset......\n"
          ]
        },
        {
          "output_type": "stream",
          "name": "stderr",
          "text": [
            "INFO:root:Validate completed, avg loss: 5.5801.\n",
            "INFO:root:EarlyStopping counter: 3 out of 5.\n",
            "INFO:root:Epoch 5, batch 0: 1.1952383518218994\n",
            "INFO:root:epoch: 5/50, batch: 0/12, avg loss: 1.1952\n",
            "INFO:root:Epoch 5, batch 0/16: 1.1952383518218994\n"
          ]
        },
        {
          "output_type": "stream",
          "name": "stdout",
          "text": [
            "Validate completed, avg loss: 5.5801.\n",
            "\n",
            "EarlyStopping counter: 3 out of 5.\n",
            "\n",
            "\u001b[0;36mtime\u001b[0m:  0h  0min 31s 666ms, \u001b[0;36mremaining\u001b[0m:  0h  6min  0s 139ms, \u001b[0;33mepoch\u001b[0m:  5/50, \u001b[0;33mbatch\u001b[0m:  0/12, \u001b[0;32mpercent complete\u001b[0m:   8.08%, \u001b[0;31mavg loss\u001b[0m: 1.1952\n",
            "Epoch 5, batch 0/16: 1.1952383518218994\n"
          ]
        },
        {
          "output_type": "stream",
          "name": "stderr",
          "text": [
            "INFO:root:Epoch 5, batch 1: 1.2609796524047852\n",
            "INFO:root:Epoch 5, batch 2: 1.6011061668395996\n",
            "INFO:root:Epoch 5, batch 3: 1.6510165929794312\n",
            "INFO:root:Epoch 5, batch 4: 1.7400791645050049\n",
            "INFO:root:Epoch 5, batch 5: 2.166936159133911\n",
            "INFO:root:Epoch 5, batch 6: 1.8520970344543457\n",
            "INFO:root:Epoch 5, batch 7: 1.9710936546325684\n",
            "INFO:root:Epoch 5, batch 8: 1.885384440422058\n",
            "INFO:root:Epoch 5, batch 9: 2.1087498664855957\n",
            "INFO:root:Epoch 5, batch 10: 1.896338701248169\n",
            "INFO:root:Epoch 5, batch 11: 1.7145589590072632\n",
            "INFO:root:Epoch 5, batch 12: 2.3358213901519775\n",
            "INFO:root:Epoch 5, batch 13: 1.6919392347335815\n",
            "INFO:root:Epoch 5, batch 14: 1.9753637313842773\n",
            "INFO:root:Epoch 5, batch 15: 1.5447498559951782\n",
            "INFO:root:Epoch 5, batch 16: 1.39805006980896\n",
            "INFO:root:Epoch 5, batch 17: 1.3788933753967285\n",
            "INFO:root:Epoch 5, batch 18: 1.8474843502044678\n",
            "INFO:root:Epoch 5, batch 19: 1.284873127937317\n",
            "INFO:root:Epoch 5, batch 20: 2.300227403640747\n",
            "INFO:root:Epoch 5, batch 21: 1.6212809085845947\n",
            "INFO:root:Epoch 5, batch 22: 1.3989583253860474\n",
            "INFO:root:Epoch 5, batch 23: 2.12833833694458\n",
            "INFO:root:Epoch 5, batch 24: 1.753228783607483\n",
            "INFO:root:Validating the model at the end of epoch 4 on valid dataset.\n"
          ]
        },
        {
          "output_type": "stream",
          "name": "stdout",
          "text": [
            "\n",
            "Validating the model at the end of epoch 4 on valid dataset......\n"
          ]
        },
        {
          "output_type": "stream",
          "name": "stderr",
          "text": [
            "INFO:root:Validate completed, avg loss: 5.6076.\n",
            "INFO:root:EarlyStopping counter: 4 out of 5.\n",
            "INFO:root:Epoch 6, batch 0: 0.6893553733825684\n",
            "INFO:root:epoch: 6/50, batch: 0/12, avg loss: 0.6894\n",
            "INFO:root:Epoch 6, batch 0/16: 0.6893553733825684\n"
          ]
        },
        {
          "output_type": "stream",
          "name": "stdout",
          "text": [
            "Validate completed, avg loss: 5.6076.\n",
            "\n",
            "EarlyStopping counter: 4 out of 5.\n",
            "\n",
            "\u001b[0;36mtime\u001b[0m:  0h  0min 39s 487ms, \u001b[0;36mremaining\u001b[0m:  0h  5min 52s 164ms, \u001b[0;33mepoch\u001b[0m:  6/50, \u001b[0;33mbatch\u001b[0m:  0/12, \u001b[0;32mpercent complete\u001b[0m:  10.08%, \u001b[0;31mavg loss\u001b[0m: 0.6894\n",
            "Epoch 6, batch 0/16: 0.6893553733825684\n"
          ]
        },
        {
          "output_type": "stream",
          "name": "stderr",
          "text": [
            "INFO:root:Epoch 6, batch 1: 0.8795572519302368\n",
            "INFO:root:Epoch 6, batch 2: 0.9519827961921692\n",
            "INFO:root:Epoch 6, batch 3: 1.1490569114685059\n",
            "INFO:root:Epoch 6, batch 4: 1.4707475900650024\n",
            "INFO:root:Epoch 6, batch 5: 1.5920674800872803\n",
            "INFO:root:Epoch 6, batch 6: 1.517681360244751\n",
            "INFO:root:Epoch 6, batch 7: 1.7574018239974976\n",
            "INFO:root:Epoch 6, batch 8: 1.449648380279541\n",
            "INFO:root:Epoch 6, batch 9: 1.6537972688674927\n",
            "INFO:root:Epoch 6, batch 10: 1.3014944791793823\n",
            "INFO:root:Epoch 6, batch 11: 1.1794991493225098\n",
            "INFO:root:Epoch 6, batch 12: 1.6501469612121582\n",
            "INFO:root:Epoch 6, batch 13: 1.458782434463501\n",
            "INFO:root:Epoch 6, batch 14: 1.6030752658843994\n",
            "INFO:root:Epoch 6, batch 15: 1.0667129755020142\n",
            "INFO:root:Epoch 6, batch 16: 1.2135426998138428\n",
            "INFO:root:Epoch 6, batch 17: 1.3735393285751343\n",
            "INFO:root:Epoch 6, batch 18: 1.4712836742401123\n",
            "INFO:root:Epoch 6, batch 19: 0.9989679455757141\n",
            "INFO:root:Epoch 6, batch 20: 1.822125792503357\n",
            "INFO:root:Epoch 6, batch 21: 1.4492332935333252\n",
            "INFO:root:Epoch 6, batch 22: 0.9057368636131287\n",
            "INFO:root:Epoch 6, batch 23: 1.6759819984436035\n",
            "INFO:root:Epoch 6, batch 24: 0.9911559224128723\n",
            "INFO:root:Validating the model at the end of epoch 5 on valid dataset.\n"
          ]
        },
        {
          "output_type": "stream",
          "name": "stdout",
          "text": [
            "\n",
            "Validating the model at the end of epoch 5 on valid dataset......\n"
          ]
        },
        {
          "output_type": "stream",
          "name": "stderr",
          "text": [
            "INFO:root:Validate completed, avg loss: 5.7337.\n",
            "INFO:root:EarlyStopping counter: 5 out of 5.\n",
            "INFO:root:Early stop.\n"
          ]
        },
        {
          "output_type": "stream",
          "name": "stdout",
          "text": [
            "Validate completed, avg loss: 5.7337.\n",
            "\n",
            "EarlyStopping counter: 5 out of 5.\n",
            "\n",
            "Early stop.\n",
            "\n",
            "MAML: \n",
            "Baseline: \n"
          ]
        },
        {
          "output_type": "display_data",
          "data": {
            "text/plain": [
              "<Figure size 640x480 with 1 Axes>"
            ],
            "image/png": "[encoded data removed]"
          },
          "metadata": {}
        },
        {
          "output_type": "display_data",
          "data": {
            "text/plain": [
              "<Figure size 640x480 with 1 Axes>"
            ],
            "image/png": "[encoded data removed]"
          },
          "metadata": {}
        },
        {
          "output_type": "display_data",
          "data": {
            "text/plain": [
              "<Figure size 640x480 with 1 Axes>"
            ],
            "image/png": "[encoded data removed]"
          },
          "metadata": {}
        }
      ]
    },
    {
      "cell_type": "code",
      "source": [
        "get_attention_by_project('flink',100,0,43,'./result_images/flink_meta_100_0_43.pdf','./result_images/flink_baseline_100_0_43.pdf')"
      ],
      "metadata": {
        "colab": {
          "base_uri": "https://localhost:8080/",
          "height": 1000
        },
        "id": "0CwpNvHLqiG7",
        "outputId": "eb1c90dc-e620-4a23-9c53-142ef59b7fd5"
      },
      "execution_count": null,
      "outputs": [
        {
          "output_type": "stream",
          "name": "stderr",
          "text": [
            "INFO:root:Epoch 1, batch 0: 4.453578948974609\n",
            "INFO:root:epoch: 1/50, batch: 0/3, avg loss: 4.4536\n",
            "INFO:root:Epoch 1, batch 0/16: 4.453578948974609\n",
            "INFO:root:Epoch 1, batch 1: 4.870140552520752\n"
          ]
        },
        {
          "output_type": "stream",
          "name": "stdout",
          "text": [
            "\u001b[0;36mtime\u001b[0m:  0h  0min  0s 207ms, \u001b[0;36mremaining\u001b[0m:  0h  1min  3s 225ms, \u001b[0;33mepoch\u001b[0m:  1/50, \u001b[0;33mbatch\u001b[0m: 0/3, \u001b[0;32mpercent complete\u001b[0m:   0.33%, \u001b[0;31mavg loss\u001b[0m: 4.4536\n",
            "Epoch 1, batch 0/16: 4.453578948974609\n"
          ]
        },
        {
          "output_type": "stream",
          "name": "stderr",
          "text": [
            "INFO:root:Epoch 1, batch 2: 5.399605751037598\n",
            "INFO:root:Epoch 1, batch 3: 4.825424671173096\n",
            "INFO:root:Epoch 1, batch 4: 4.738190174102783\n",
            "INFO:root:Epoch 1, batch 5: 5.802271366119385\n",
            "INFO:root:Epoch 1, batch 6: 5.321358680725098\n",
            "INFO:root:Validating the model at the end of epoch 0 on valid dataset.\n"
          ]
        },
        {
          "output_type": "stream",
          "name": "stdout",
          "text": [
            "\n",
            "Validating the model at the end of epoch 0 on valid dataset......\n"
          ]
        },
        {
          "output_type": "stream",
          "name": "stderr",
          "text": [
            "INFO:root:Validate completed, avg loss: 5.0253.\n",
            "INFO:root:Epoch 2, batch 0: 2.8179209232330322\n",
            "INFO:root:epoch: 2/50, batch: 0/3, avg loss: 2.8179\n",
            "INFO:root:Epoch 2, batch 0/16: 2.8179209232330322\n"
          ]
        },
        {
          "output_type": "stream",
          "name": "stdout",
          "text": [
            "Validate completed, avg loss: 5.0253.\n",
            "\n",
            "\u001b[0;36mtime\u001b[0m:  0h  0min  4s 401ms, \u001b[0;36mremaining\u001b[0m:  0h  3min  4s 802ms, \u001b[0;33mepoch\u001b[0m:  2/50, \u001b[0;33mbatch\u001b[0m: 0/3, \u001b[0;32mpercent complete\u001b[0m:   2.33%, \u001b[0;31mavg loss\u001b[0m: 2.8179\n",
            "Epoch 2, batch 0/16: 2.8179209232330322\n"
          ]
        },
        {
          "output_type": "stream",
          "name": "stderr",
          "text": [
            "INFO:root:Epoch 2, batch 1: 3.618647575378418\n",
            "INFO:root:Epoch 2, batch 2: 3.462439775466919\n",
            "INFO:root:Epoch 2, batch 3: 3.69187593460083\n",
            "INFO:root:Epoch 2, batch 4: 3.377779245376587\n",
            "INFO:root:Epoch 2, batch 5: 4.516515254974365\n",
            "INFO:root:Epoch 2, batch 6: 3.6223795413970947\n",
            "INFO:root:Validating the model at the end of epoch 1 on valid dataset.\n"
          ]
        },
        {
          "output_type": "stream",
          "name": "stdout",
          "text": [
            "\n",
            "Validating the model at the end of epoch 1 on valid dataset......\n"
          ]
        },
        {
          "output_type": "stream",
          "name": "stderr",
          "text": [
            "INFO:root:Validate completed, avg loss: 5.0447.\n",
            "INFO:root:EarlyStopping counter: 1 out of 5.\n",
            "INFO:root:Epoch 3, batch 0: 2.0457262992858887\n",
            "INFO:root:epoch: 3/50, batch: 0/3, avg loss: 2.0457\n",
            "INFO:root:Epoch 3, batch 0/16: 2.0457262992858887\n"
          ]
        },
        {
          "output_type": "stream",
          "name": "stdout",
          "text": [
            "Validate completed, avg loss: 5.0447.\n",
            "\n",
            "EarlyStopping counter: 1 out of 5.\n",
            "\n",
            "\u001b[0;36mtime\u001b[0m:  0h  0min  8s 787ms, \u001b[0;36mremaining\u001b[0m:  0h  3min 14s 320ms, \u001b[0;33mepoch\u001b[0m:  3/50, \u001b[0;33mbatch\u001b[0m: 0/3, \u001b[0;32mpercent complete\u001b[0m:   4.33%, \u001b[0;31mavg loss\u001b[0m: 2.0457\n",
            "Epoch 3, batch 0/16: 2.0457262992858887\n"
          ]
        },
        {
          "output_type": "stream",
          "name": "stderr",
          "text": [
            "INFO:root:Epoch 3, batch 1: 2.460827112197876\n",
            "INFO:root:Epoch 3, batch 2: 2.9796297550201416\n",
            "INFO:root:Epoch 3, batch 3: 3.2026901245117188\n",
            "INFO:root:Epoch 3, batch 4: 3.1569528579711914\n",
            "INFO:root:Epoch 3, batch 5: 4.1426215171813965\n",
            "INFO:root:Epoch 3, batch 6: 2.3038361072540283\n",
            "INFO:root:Validating the model at the end of epoch 2 on valid dataset.\n"
          ]
        },
        {
          "output_type": "stream",
          "name": "stdout",
          "text": [
            "\n",
            "Validating the model at the end of epoch 2 on valid dataset......\n"
          ]
        },
        {
          "output_type": "stream",
          "name": "stderr",
          "text": [
            "INFO:root:Validate completed, avg loss: 5.0901.\n",
            "INFO:root:EarlyStopping counter: 2 out of 5.\n",
            "INFO:root:Epoch 4, batch 0: 1.3414324522018433\n",
            "INFO:root:epoch: 4/50, batch: 0/3, avg loss: 1.3414\n",
            "INFO:root:Epoch 4, batch 0/16: 1.3414324522018433\n"
          ]
        },
        {
          "output_type": "stream",
          "name": "stdout",
          "text": [
            "Validate completed, avg loss: 5.0901.\n",
            "\n",
            "EarlyStopping counter: 2 out of 5.\n",
            "\n",
            "\u001b[0;36mtime\u001b[0m:  0h  0min 13s 144ms, \u001b[0;36mremaining\u001b[0m:  0h  3min 14s 624ms, \u001b[0;33mepoch\u001b[0m:  4/50, \u001b[0;33mbatch\u001b[0m: 0/3, \u001b[0;32mpercent complete\u001b[0m:   6.33%, \u001b[0;31mavg loss\u001b[0m: 1.3414\n",
            "Epoch 4, batch 0/16: 1.3414324522018433\n"
          ]
        },
        {
          "output_type": "stream",
          "name": "stderr",
          "text": [
            "INFO:root:Epoch 4, batch 1: 1.9407994747161865\n",
            "INFO:root:Epoch 4, batch 2: 2.1099929809570312\n",
            "INFO:root:Epoch 4, batch 3: 2.1954495906829834\n",
            "INFO:root:Epoch 4, batch 4: 2.4684391021728516\n",
            "INFO:root:Epoch 4, batch 5: 3.075303792953491\n",
            "INFO:root:Epoch 4, batch 6: 1.3625251054763794\n",
            "INFO:root:Validating the model at the end of epoch 3 on valid dataset.\n"
          ]
        },
        {
          "output_type": "stream",
          "name": "stdout",
          "text": [
            "\n",
            "Validating the model at the end of epoch 3 on valid dataset......\n"
          ]
        },
        {
          "output_type": "stream",
          "name": "stderr",
          "text": [
            "INFO:root:Validate completed, avg loss: 5.1484.\n",
            "INFO:root:EarlyStopping counter: 3 out of 5.\n",
            "INFO:root:Epoch 5, batch 0: 1.02359938621521\n",
            "INFO:root:epoch: 5/50, batch: 0/3, avg loss: 1.0236\n",
            "INFO:root:Epoch 5, batch 0/16: 1.02359938621521\n"
          ]
        },
        {
          "output_type": "stream",
          "name": "stdout",
          "text": [
            "Validate completed, avg loss: 5.1484.\n",
            "\n",
            "EarlyStopping counter: 3 out of 5.\n",
            "\n",
            "\u001b[0;36mtime\u001b[0m:  0h  0min 17s 372ms, \u001b[0;36mremaining\u001b[0m:  0h  3min 11s 262ms, \u001b[0;33mepoch\u001b[0m:  5/50, \u001b[0;33mbatch\u001b[0m: 0/3, \u001b[0;32mpercent complete\u001b[0m:   8.33%, \u001b[0;31mavg loss\u001b[0m: 1.0236\n",
            "Epoch 5, batch 0/16: 1.02359938621521\n"
          ]
        },
        {
          "output_type": "stream",
          "name": "stderr",
          "text": [
            "INFO:root:Epoch 5, batch 1: 1.6300932168960571\n",
            "INFO:root:Epoch 5, batch 2: 1.4006534814834595\n",
            "INFO:root:Epoch 5, batch 3: 1.4763190746307373\n",
            "INFO:root:Epoch 5, batch 4: 1.855575442314148\n",
            "INFO:root:Epoch 5, batch 5: 2.4417436122894287\n",
            "INFO:root:Epoch 5, batch 6: 1.3198299407958984\n",
            "INFO:root:Validating the model at the end of epoch 4 on valid dataset.\n"
          ]
        },
        {
          "output_type": "stream",
          "name": "stdout",
          "text": [
            "\n",
            "Validating the model at the end of epoch 4 on valid dataset......\n"
          ]
        },
        {
          "output_type": "stream",
          "name": "stderr",
          "text": [
            "INFO:root:Validate completed, avg loss: 5.2189.\n",
            "INFO:root:EarlyStopping counter: 4 out of 5.\n",
            "INFO:root:Epoch 6, batch 0: 0.7304757237434387\n",
            "INFO:root:epoch: 6/50, batch: 0/3, avg loss: 0.7305\n",
            "INFO:root:Epoch 6, batch 0/16: 0.7304757237434387\n"
          ]
        },
        {
          "output_type": "stream",
          "name": "stdout",
          "text": [
            "Validate completed, avg loss: 5.2189.\n",
            "\n",
            "EarlyStopping counter: 4 out of 5.\n",
            "\n",
            "\u001b[0;36mtime\u001b[0m:  0h  0min 21s 794ms, \u001b[0;36mremaining\u001b[0m:  0h  3min  9s 258ms, \u001b[0;33mepoch\u001b[0m:  6/50, \u001b[0;33mbatch\u001b[0m: 0/3, \u001b[0;32mpercent complete\u001b[0m:  10.33%, \u001b[0;31mavg loss\u001b[0m: 0.7305\n",
            "Epoch 6, batch 0/16: 0.7304757237434387\n"
          ]
        },
        {
          "output_type": "stream",
          "name": "stderr",
          "text": [
            "INFO:root:Epoch 6, batch 1: 1.3651896715164185\n",
            "INFO:root:Epoch 6, batch 2: 1.0994799137115479\n",
            "INFO:root:Epoch 6, batch 3: 1.228468418121338\n",
            "INFO:root:Epoch 6, batch 4: 1.3826762437820435\n",
            "INFO:root:Epoch 6, batch 5: 1.9037622213363647\n",
            "INFO:root:Epoch 6, batch 6: 0.9740896821022034\n",
            "INFO:root:Validating the model at the end of epoch 5 on valid dataset.\n"
          ]
        },
        {
          "output_type": "stream",
          "name": "stdout",
          "text": [
            "\n",
            "Validating the model at the end of epoch 5 on valid dataset......\n"
          ]
        },
        {
          "output_type": "stream",
          "name": "stderr",
          "text": [
            "INFO:root:Validate completed, avg loss: 5.2943.\n",
            "INFO:root:EarlyStopping counter: 5 out of 5.\n",
            "INFO:root:Early stop.\n"
          ]
        },
        {
          "output_type": "stream",
          "name": "stdout",
          "text": [
            "Validate completed, avg loss: 5.2943.\n",
            "\n",
            "EarlyStopping counter: 5 out of 5.\n",
            "\n",
            "Early stop.\n",
            "\n"
          ]
        },
        {
          "output_type": "stream",
          "name": "stderr",
          "text": [
            "INFO:root:Epoch 1, batch 0: 5.366164207458496\n",
            "INFO:root:epoch: 1/50, batch: 0/3, avg loss: 5.3662\n",
            "INFO:root:Epoch 1, batch 0/16: 5.366164207458496\n",
            "INFO:root:Epoch 1, batch 1: 5.3961896896362305\n"
          ]
        },
        {
          "output_type": "stream",
          "name": "stdout",
          "text": [
            "\u001b[0;36mtime\u001b[0m:  0h  0min  0s 204ms, \u001b[0;36mremaining\u001b[0m:  0h  1min  2s 430ms, \u001b[0;33mepoch\u001b[0m:  1/50, \u001b[0;33mbatch\u001b[0m: 0/3, \u001b[0;32mpercent complete\u001b[0m:   0.33%, \u001b[0;31mavg loss\u001b[0m: 5.3662\n",
            "Epoch 1, batch 0/16: 5.366164207458496\n"
          ]
        },
        {
          "output_type": "stream",
          "name": "stderr",
          "text": [
            "INFO:root:Epoch 1, batch 2: 5.308790683746338\n",
            "INFO:root:Epoch 1, batch 3: 5.467874526977539\n",
            "INFO:root:Epoch 1, batch 4: 5.384806156158447\n",
            "INFO:root:Epoch 1, batch 5: 5.972762107849121\n",
            "INFO:root:Epoch 1, batch 6: 6.444921493530273\n",
            "INFO:root:Validating the model at the end of epoch 0 on valid dataset.\n"
          ]
        },
        {
          "output_type": "stream",
          "name": "stdout",
          "text": [
            "\n",
            "Validating the model at the end of epoch 0 on valid dataset......\n"
          ]
        },
        {
          "output_type": "stream",
          "name": "stderr",
          "text": [
            "INFO:root:Validate completed, avg loss: 5.4259.\n",
            "INFO:root:Epoch 2, batch 0: 3.6183125972747803\n",
            "INFO:root:epoch: 2/50, batch: 0/3, avg loss: 3.6183\n",
            "INFO:root:Epoch 2, batch 0/16: 3.6183125972747803\n"
          ]
        },
        {
          "output_type": "stream",
          "name": "stdout",
          "text": [
            "Validate completed, avg loss: 5.4259.\n",
            "\n",
            "\u001b[0;36mtime\u001b[0m:  0h  0min  4s 457ms, \u001b[0;36mremaining\u001b[0m:  0h  3min  7s 151ms, \u001b[0;33mepoch\u001b[0m:  2/50, \u001b[0;33mbatch\u001b[0m: 0/3, \u001b[0;32mpercent complete\u001b[0m:   2.33%, \u001b[0;31mavg loss\u001b[0m: 3.6183\n",
            "Epoch 2, batch 0/16: 3.6183125972747803\n"
          ]
        },
        {
          "output_type": "stream",
          "name": "stderr",
          "text": [
            "INFO:root:Epoch 2, batch 1: 3.9066710472106934\n",
            "INFO:root:Epoch 2, batch 2: 4.076702117919922\n",
            "INFO:root:Epoch 2, batch 3: 3.8796637058258057\n",
            "INFO:root:Epoch 2, batch 4: 4.28297758102417\n",
            "INFO:root:Epoch 2, batch 5: 4.902693271636963\n",
            "INFO:root:Epoch 2, batch 6: 3.685835599899292\n",
            "INFO:root:Validating the model at the end of epoch 1 on valid dataset.\n"
          ]
        },
        {
          "output_type": "stream",
          "name": "stdout",
          "text": [
            "\n",
            "Validating the model at the end of epoch 1 on valid dataset......\n"
          ]
        },
        {
          "output_type": "stream",
          "name": "stderr",
          "text": [
            "INFO:root:Validate completed, avg loss: 5.4050.\n",
            "INFO:root:Epoch 3, batch 0: 2.6468493938446045\n",
            "INFO:root:epoch: 3/50, batch: 0/3, avg loss: 2.6468\n",
            "INFO:root:Epoch 3, batch 0/16: 2.6468493938446045\n"
          ]
        },
        {
          "output_type": "stream",
          "name": "stdout",
          "text": [
            "Validate completed, avg loss: 5.4050.\n",
            "\n",
            "\u001b[0;36mtime\u001b[0m:  0h  0min  9s  31ms, \u001b[0;36mremaining\u001b[0m:  0h  3min 19s 726ms, \u001b[0;33mepoch\u001b[0m:  3/50, \u001b[0;33mbatch\u001b[0m: 0/3, \u001b[0;32mpercent complete\u001b[0m:   4.33%, \u001b[0;31mavg loss\u001b[0m: 2.6468\n",
            "Epoch 3, batch 0/16: 2.6468493938446045\n"
          ]
        },
        {
          "output_type": "stream",
          "name": "stderr",
          "text": [
            "INFO:root:Epoch 3, batch 1: 2.685786724090576\n",
            "INFO:root:Epoch 3, batch 2: 2.986518144607544\n",
            "INFO:root:Epoch 3, batch 3: 3.2965035438537598\n",
            "INFO:root:Epoch 3, batch 4: 3.5385608673095703\n",
            "INFO:root:Epoch 3, batch 5: 3.8875889778137207\n",
            "INFO:root:Epoch 3, batch 6: 2.446896553039551\n",
            "INFO:root:Validating the model at the end of epoch 2 on valid dataset.\n"
          ]
        },
        {
          "output_type": "stream",
          "name": "stdout",
          "text": [
            "\n",
            "Validating the model at the end of epoch 2 on valid dataset......\n"
          ]
        },
        {
          "output_type": "stream",
          "name": "stderr",
          "text": [
            "INFO:root:Validate completed, avg loss: 5.4144.\n",
            "INFO:root:EarlyStopping counter: 1 out of 5.\n",
            "INFO:root:Epoch 4, batch 0: 1.6670092344284058\n",
            "INFO:root:epoch: 4/50, batch: 0/3, avg loss: 1.6670\n",
            "INFO:root:Epoch 4, batch 0/16: 1.6670092344284058\n"
          ]
        },
        {
          "output_type": "stream",
          "name": "stdout",
          "text": [
            "Validate completed, avg loss: 5.4144.\n",
            "\n",
            "EarlyStopping counter: 1 out of 5.\n",
            "\n",
            "\u001b[0;36mtime\u001b[0m:  0h  0min 13s 300ms, \u001b[0;36mremaining\u001b[0m:  0h  3min 16s 932ms, \u001b[0;33mepoch\u001b[0m:  4/50, \u001b[0;33mbatch\u001b[0m: 0/3, \u001b[0;32mpercent complete\u001b[0m:   6.33%, \u001b[0;31mavg loss\u001b[0m: 1.6670\n",
            "Epoch 4, batch 0/16: 1.6670092344284058\n"
          ]
        },
        {
          "output_type": "stream",
          "name": "stderr",
          "text": [
            "INFO:root:Epoch 4, batch 1: 2.133326768875122\n",
            "INFO:root:Epoch 4, batch 2: 2.8775923252105713\n",
            "INFO:root:Epoch 4, batch 3: 2.3014516830444336\n",
            "INFO:root:Epoch 4, batch 4: 2.681173086166382\n",
            "INFO:root:Epoch 4, batch 5: 3.005551338195801\n",
            "INFO:root:Epoch 4, batch 6: 1.5771950483322144\n",
            "INFO:root:Validating the model at the end of epoch 3 on valid dataset.\n"
          ]
        },
        {
          "output_type": "stream",
          "name": "stdout",
          "text": [
            "\n",
            "Validating the model at the end of epoch 3 on valid dataset......\n"
          ]
        },
        {
          "output_type": "stream",
          "name": "stderr",
          "text": [
            "INFO:root:Validate completed, avg loss: 5.4546.\n",
            "INFO:root:EarlyStopping counter: 2 out of 5.\n",
            "INFO:root:Epoch 5, batch 0: 1.162717580795288\n",
            "INFO:root:epoch: 5/50, batch: 0/3, avg loss: 1.1627\n",
            "INFO:root:Epoch 5, batch 0/16: 1.162717580795288\n"
          ]
        },
        {
          "output_type": "stream",
          "name": "stdout",
          "text": [
            "Validate completed, avg loss: 5.4546.\n",
            "\n",
            "EarlyStopping counter: 2 out of 5.\n",
            "\n",
            "\u001b[0;36mtime\u001b[0m:  0h  0min 17s 597ms, \u001b[0;36mremaining\u001b[0m:  0h  3min 13s 747ms, \u001b[0;33mepoch\u001b[0m:  5/50, \u001b[0;33mbatch\u001b[0m: 0/3, \u001b[0;32mpercent complete\u001b[0m:   8.33%, \u001b[0;31mavg loss\u001b[0m: 1.1627\n",
            "Epoch 5, batch 0/16: 1.162717580795288\n"
          ]
        },
        {
          "output_type": "stream",
          "name": "stderr",
          "text": [
            "INFO:root:Epoch 5, batch 1: 1.6332734823226929\n",
            "INFO:root:Epoch 5, batch 2: 1.6881285905838013\n",
            "INFO:root:Epoch 5, batch 3: 2.020632266998291\n",
            "INFO:root:Epoch 5, batch 4: 2.0838193893432617\n",
            "INFO:root:Epoch 5, batch 5: 2.665966510772705\n",
            "INFO:root:Epoch 5, batch 6: 1.1480586528778076\n",
            "INFO:root:Validating the model at the end of epoch 4 on valid dataset.\n"
          ]
        },
        {
          "output_type": "stream",
          "name": "stdout",
          "text": [
            "\n",
            "Validating the model at the end of epoch 4 on valid dataset......\n"
          ]
        },
        {
          "output_type": "stream",
          "name": "stderr",
          "text": [
            "INFO:root:Validate completed, avg loss: 5.4988.\n",
            "INFO:root:EarlyStopping counter: 3 out of 5.\n",
            "INFO:root:Epoch 6, batch 0: 0.7802944779396057\n",
            "INFO:root:epoch: 6/50, batch: 0/3, avg loss: 0.7803\n",
            "INFO:root:Epoch 6, batch 0/16: 0.7802944779396057\n"
          ]
        },
        {
          "output_type": "stream",
          "name": "stdout",
          "text": [
            "Validate completed, avg loss: 5.4988.\n",
            "\n",
            "EarlyStopping counter: 3 out of 5.\n",
            "\n",
            "\u001b[0;36mtime\u001b[0m:  0h  0min 22s 126ms, \u001b[0;36mremaining\u001b[0m:  0h  3min 12s 141ms, \u001b[0;33mepoch\u001b[0m:  6/50, \u001b[0;33mbatch\u001b[0m: 0/3, \u001b[0;32mpercent complete\u001b[0m:  10.33%, \u001b[0;31mavg loss\u001b[0m: 0.7803\n",
            "Epoch 6, batch 0/16: 0.7802944779396057\n"
          ]
        },
        {
          "output_type": "stream",
          "name": "stderr",
          "text": [
            "INFO:root:Epoch 6, batch 1: 0.9486144185066223\n",
            "INFO:root:Epoch 6, batch 2: 1.121668815612793\n",
            "INFO:root:Epoch 6, batch 3: 1.3143634796142578\n",
            "INFO:root:Epoch 6, batch 4: 1.576069951057434\n",
            "INFO:root:Epoch 6, batch 5: 1.8816392421722412\n",
            "INFO:root:Epoch 6, batch 6: 0.9194902777671814\n",
            "INFO:root:Validating the model at the end of epoch 5 on valid dataset.\n"
          ]
        },
        {
          "output_type": "stream",
          "name": "stdout",
          "text": [
            "\n",
            "Validating the model at the end of epoch 5 on valid dataset......\n"
          ]
        },
        {
          "output_type": "stream",
          "name": "stderr",
          "text": [
            "INFO:root:Validate completed, avg loss: 5.5583.\n",
            "INFO:root:EarlyStopping counter: 4 out of 5.\n",
            "INFO:root:Epoch 7, batch 0: 0.4732917845249176\n",
            "INFO:root:epoch: 7/50, batch: 0/3, avg loss: 0.4733\n",
            "INFO:root:Epoch 7, batch 0/16: 0.4732917845249176\n"
          ]
        },
        {
          "output_type": "stream",
          "name": "stdout",
          "text": [
            "Validate completed, avg loss: 5.5583.\n",
            "\n",
            "EarlyStopping counter: 4 out of 5.\n",
            "\n",
            "\u001b[0;36mtime\u001b[0m:  0h  0min 26s 755ms, \u001b[0;36mremaining\u001b[0m:  0h  3min 10s 302ms, \u001b[0;33mepoch\u001b[0m:  7/50, \u001b[0;33mbatch\u001b[0m: 0/3, \u001b[0;32mpercent complete\u001b[0m:  12.33%, \u001b[0;31mavg loss\u001b[0m: 0.4733\n",
            "Epoch 7, batch 0/16: 0.4732917845249176\n"
          ]
        },
        {
          "output_type": "stream",
          "name": "stderr",
          "text": [
            "INFO:root:Epoch 7, batch 1: 0.7418254017829895\n",
            "INFO:root:Epoch 7, batch 2: 0.7470578551292419\n",
            "INFO:root:Epoch 7, batch 3: 0.9145328402519226\n",
            "INFO:root:Epoch 7, batch 4: 1.2038791179656982\n",
            "INFO:root:Epoch 7, batch 5: 1.5375280380249023\n",
            "INFO:root:Epoch 7, batch 6: 1.2140997648239136\n",
            "INFO:root:Validating the model at the end of epoch 6 on valid dataset.\n"
          ]
        },
        {
          "output_type": "stream",
          "name": "stdout",
          "text": [
            "\n",
            "Validating the model at the end of epoch 6 on valid dataset......\n"
          ]
        },
        {
          "output_type": "stream",
          "name": "stderr",
          "text": [
            "INFO:root:Validate completed, avg loss: 5.6273.\n",
            "INFO:root:EarlyStopping counter: 5 out of 5.\n",
            "INFO:root:Early stop.\n"
          ]
        },
        {
          "output_type": "stream",
          "name": "stdout",
          "text": [
            "Validate completed, avg loss: 5.6273.\n",
            "\n",
            "EarlyStopping counter: 5 out of 5.\n",
            "\n",
            "Early stop.\n",
            "\n",
            "MAML: \n",
            "Baseline: \n"
          ]
        },
        {
          "output_type": "display_data",
          "data": {
            "text/plain": [
              "<Figure size 640x480 with 1 Axes>"
            ],
            "image/png": "[encoded data removed]"
          },
          "metadata": {}
        },
        {
          "output_type": "display_data",
          "data": {
            "text/plain": [
              "<Figure size 640x480 with 1 Axes>"
            ],
            "image/png": "[encoded data removed]"
          },
          "metadata": {}
        },
        {
          "output_type": "display_data",
          "data": {
            "text/plain": [
              "<Figure size 640x480 with 1 Axes>"
            ],
            "image/png": "[encoded data removed]"
          },
          "metadata": {}
        }
      ]
    },
    {
      "cell_type": "code",
      "source": [
        "get_attention_by_project('flink',100,0,334,'./result_images/flink_meta_100_0_334.pdf','./result_images/flink_baseline_100_0_334.pdf')"
      ],
      "metadata": {
        "colab": {
          "base_uri": "https://localhost:8080/",
          "height": 1000
        },
        "id": "lnYYnIVGT-Wy",
        "outputId": "f0ded882-4e4c-4465-91d7-5d1eb262ce9b"
      },
      "execution_count": null,
      "outputs": [
        {
          "output_type": "stream",
          "name": "stderr",
          "text": [
            "INFO:root:Epoch 1, batch 0: 5.0171895027160645\n",
            "INFO:root:epoch: 1/50, batch: 0/3, avg loss: 5.0172\n",
            "INFO:root:Epoch 1, batch 0/16: 5.0171895027160645\n"
          ]
        },
        {
          "output_type": "stream",
          "name": "stdout",
          "text": [
            "\u001b[0;36mtime\u001b[0m:  0h  0min  1s 701ms, \u001b[0;36mremaining\u001b[0m:  0h  8min 39s 469ms, \u001b[0;33mepoch\u001b[0m:  1/50, \u001b[0;33mbatch\u001b[0m: 0/3, \u001b[0;32mpercent complete\u001b[0m:   0.33%, \u001b[0;31mavg loss\u001b[0m: 5.0172\n",
            "Epoch 1, batch 0/16: 5.0171895027160645\n"
          ]
        },
        {
          "output_type": "stream",
          "name": "stderr",
          "text": [
            "INFO:root:Epoch 1, batch 1: 5.045117378234863\n",
            "INFO:root:Epoch 1, batch 2: 5.293859481811523\n",
            "INFO:root:Epoch 1, batch 3: 5.032501697540283\n",
            "INFO:root:Epoch 1, batch 4: 5.271546363830566\n",
            "INFO:root:Epoch 1, batch 5: 5.380321979522705\n",
            "INFO:root:Epoch 1, batch 6: 5.081672191619873\n",
            "INFO:root:Validating the model at the end of epoch 0 on valid dataset.\n"
          ]
        },
        {
          "output_type": "stream",
          "name": "stdout",
          "text": [
            "\n",
            "Validating the model at the end of epoch 0 on valid dataset......\n"
          ]
        },
        {
          "output_type": "stream",
          "name": "stderr",
          "text": [
            "INFO:root:Validate completed, avg loss: 4.9821.\n",
            "INFO:root:Epoch 2, batch 0: 2.824960947036743\n",
            "INFO:root:epoch: 2/50, batch: 0/3, avg loss: 2.8250\n",
            "INFO:root:Epoch 2, batch 0/16: 2.824960947036743\n"
          ]
        },
        {
          "output_type": "stream",
          "name": "stdout",
          "text": [
            "Validate completed, avg loss: 4.9821.\n",
            "\n",
            "\u001b[0;36mtime\u001b[0m:  0h  0min  6s 289ms, \u001b[0;36mremaining\u001b[0m:  0h  4min 24s  41ms, \u001b[0;33mepoch\u001b[0m:  2/50, \u001b[0;33mbatch\u001b[0m: 0/3, \u001b[0;32mpercent complete\u001b[0m:   2.33%, \u001b[0;31mavg loss\u001b[0m: 2.8250\n",
            "Epoch 2, batch 0/16: 2.824960947036743\n"
          ]
        },
        {
          "output_type": "stream",
          "name": "stderr",
          "text": [
            "INFO:root:Epoch 2, batch 1: 3.543646812438965\n",
            "INFO:root:Epoch 2, batch 2: 3.550339698791504\n",
            "INFO:root:Epoch 2, batch 3: 3.7601442337036133\n",
            "INFO:root:Epoch 2, batch 4: 3.726766586303711\n",
            "INFO:root:Epoch 2, batch 5: 4.722202777862549\n",
            "INFO:root:Epoch 2, batch 6: 3.4509541988372803\n",
            "INFO:root:Validating the model at the end of epoch 1 on valid dataset.\n"
          ]
        },
        {
          "output_type": "stream",
          "name": "stdout",
          "text": [
            "\n",
            "Validating the model at the end of epoch 1 on valid dataset......\n"
          ]
        },
        {
          "output_type": "stream",
          "name": "stderr",
          "text": [
            "INFO:root:Validate completed, avg loss: 5.0109.\n",
            "INFO:root:EarlyStopping counter: 1 out of 5.\n",
            "INFO:root:Epoch 3, batch 0: 2.1400156021118164\n",
            "INFO:root:epoch: 3/50, batch: 0/3, avg loss: 2.1400\n",
            "INFO:root:Epoch 3, batch 0/16: 2.1400156021118164\n"
          ]
        },
        {
          "output_type": "stream",
          "name": "stdout",
          "text": [
            "Validate completed, avg loss: 5.0109.\n",
            "\n",
            "EarlyStopping counter: 1 out of 5.\n",
            "\n",
            "\u001b[0;36mtime\u001b[0m:  0h  0min 10s 670ms, \u001b[0;36mremaining\u001b[0m:  0h  3min 55s 969ms, \u001b[0;33mepoch\u001b[0m:  3/50, \u001b[0;33mbatch\u001b[0m: 0/3, \u001b[0;32mpercent complete\u001b[0m:   4.33%, \u001b[0;31mavg loss\u001b[0m: 2.1400\n",
            "Epoch 3, batch 0/16: 2.1400156021118164\n"
          ]
        },
        {
          "output_type": "stream",
          "name": "stderr",
          "text": [
            "INFO:root:Epoch 3, batch 1: 2.536529064178467\n",
            "INFO:root:Epoch 3, batch 2: 2.652212142944336\n",
            "INFO:root:Epoch 3, batch 3: 2.685373067855835\n",
            "INFO:root:Epoch 3, batch 4: 3.065825939178467\n",
            "INFO:root:Epoch 3, batch 5: 3.7822303771972656\n",
            "INFO:root:Epoch 3, batch 6: 1.8745542764663696\n",
            "INFO:root:Validating the model at the end of epoch 2 on valid dataset.\n"
          ]
        },
        {
          "output_type": "stream",
          "name": "stdout",
          "text": [
            "\n",
            "Validating the model at the end of epoch 2 on valid dataset......\n"
          ]
        },
        {
          "output_type": "stream",
          "name": "stderr",
          "text": [
            "INFO:root:Validate completed, avg loss: 5.0698.\n",
            "INFO:root:EarlyStopping counter: 2 out of 5.\n",
            "INFO:root:Epoch 4, batch 0: 1.3791433572769165\n",
            "INFO:root:epoch: 4/50, batch: 0/3, avg loss: 1.3791\n",
            "INFO:root:Epoch 4, batch 0/16: 1.3791433572769165\n"
          ]
        },
        {
          "output_type": "stream",
          "name": "stdout",
          "text": [
            "Validate completed, avg loss: 5.0698.\n",
            "\n",
            "EarlyStopping counter: 2 out of 5.\n",
            "\n",
            "\u001b[0;36mtime\u001b[0m:  0h  0min 14s 917ms, \u001b[0;36mremaining\u001b[0m:  0h  3min 40s 879ms, \u001b[0;33mepoch\u001b[0m:  4/50, \u001b[0;33mbatch\u001b[0m: 0/3, \u001b[0;32mpercent complete\u001b[0m:   6.33%, \u001b[0;31mavg loss\u001b[0m: 1.3791\n",
            "Epoch 4, batch 0/16: 1.3791433572769165\n"
          ]
        },
        {
          "output_type": "stream",
          "name": "stderr",
          "text": [
            "INFO:root:Epoch 4, batch 1: 1.8538401126861572\n",
            "INFO:root:Epoch 4, batch 2: 2.217923641204834\n",
            "INFO:root:Epoch 4, batch 3: 2.1039528846740723\n",
            "INFO:root:Epoch 4, batch 4: 2.3824405670166016\n",
            "INFO:root:Epoch 4, batch 5: 2.8376283645629883\n",
            "INFO:root:Epoch 4, batch 6: 1.5555248260498047\n",
            "INFO:root:Validating the model at the end of epoch 3 on valid dataset.\n"
          ]
        },
        {
          "output_type": "stream",
          "name": "stdout",
          "text": [
            "\n",
            "Validating the model at the end of epoch 3 on valid dataset......\n"
          ]
        },
        {
          "output_type": "stream",
          "name": "stderr",
          "text": [
            "INFO:root:Validate completed, avg loss: 5.1513.\n",
            "INFO:root:EarlyStopping counter: 3 out of 5.\n",
            "INFO:root:Epoch 5, batch 0: 1.161133050918579\n",
            "INFO:root:epoch: 5/50, batch: 0/3, avg loss: 1.1611\n"
          ]
        },
        {
          "output_type": "stream",
          "name": "stdout",
          "text": [
            "Validate completed, avg loss: 5.1513.\n",
            "\n",
            "EarlyStopping counter: 3 out of 5.\n",
            "\n",
            "\u001b[0;36mtime\u001b[0m:  0h  0min 19s 332ms, \u001b[0;36mremaining\u001b[0m:  0h  3min 32s 844ms, \u001b[0;33mepoch\u001b[0m:  5/50, \u001b[0;33mbatch\u001b[0m: 0/3, \u001b[0;32mpercent complete\u001b[0m:   8.33%, \u001b[0;31mavg loss\u001b[0m: 1.1611\n"
          ]
        },
        {
          "output_type": "stream",
          "name": "stderr",
          "text": [
            "INFO:root:Epoch 5, batch 0/16: 1.161133050918579\n"
          ]
        },
        {
          "output_type": "stream",
          "name": "stdout",
          "text": [
            "Epoch 5, batch 0/16: 1.161133050918579\n"
          ]
        },
        {
          "output_type": "stream",
          "name": "stderr",
          "text": [
            "INFO:root:Epoch 5, batch 1: 1.5163122415542603\n",
            "INFO:root:Epoch 5, batch 2: 1.1401076316833496\n",
            "INFO:root:Epoch 5, batch 3: 1.4809340238571167\n",
            "INFO:root:Epoch 5, batch 4: 1.7261085510253906\n",
            "INFO:root:Epoch 5, batch 5: 2.211339235305786\n",
            "INFO:root:Epoch 5, batch 6: 1.1523189544677734\n",
            "INFO:root:Validating the model at the end of epoch 4 on valid dataset.\n"
          ]
        },
        {
          "output_type": "stream",
          "name": "stdout",
          "text": [
            "\n",
            "Validating the model at the end of epoch 4 on valid dataset......\n"
          ]
        },
        {
          "output_type": "stream",
          "name": "stderr",
          "text": [
            "INFO:root:Validate completed, avg loss: 5.2312.\n",
            "INFO:root:EarlyStopping counter: 4 out of 5.\n",
            "INFO:root:Epoch 6, batch 0: 0.7292660474777222\n",
            "INFO:root:epoch: 6/50, batch: 0/3, avg loss: 0.7293\n",
            "INFO:root:Epoch 6, batch 0/16: 0.7292660474777222\n"
          ]
        },
        {
          "output_type": "stream",
          "name": "stdout",
          "text": [
            "Validate completed, avg loss: 5.2312.\n",
            "\n",
            "EarlyStopping counter: 4 out of 5.\n",
            "\n",
            "\u001b[0;36mtime\u001b[0m:  0h  0min 23s 798ms, \u001b[0;36mremaining\u001b[0m:  0h  3min 26s 658ms, \u001b[0;33mepoch\u001b[0m:  6/50, \u001b[0;33mbatch\u001b[0m: 0/3, \u001b[0;32mpercent complete\u001b[0m:  10.33%, \u001b[0;31mavg loss\u001b[0m: 0.7293\n",
            "Epoch 6, batch 0/16: 0.7292660474777222\n"
          ]
        },
        {
          "output_type": "stream",
          "name": "stderr",
          "text": [
            "INFO:root:Epoch 6, batch 1: 1.0766630172729492\n",
            "INFO:root:Epoch 6, batch 2: 0.9660841822624207\n",
            "INFO:root:Epoch 6, batch 3: 1.155914068222046\n",
            "INFO:root:Epoch 6, batch 4: 1.4554301500320435\n",
            "INFO:root:Epoch 6, batch 5: 1.9365640878677368\n",
            "INFO:root:Epoch 6, batch 6: 1.3387006521224976\n",
            "INFO:root:Validating the model at the end of epoch 5 on valid dataset.\n"
          ]
        },
        {
          "output_type": "stream",
          "name": "stdout",
          "text": [
            "\n",
            "Validating the model at the end of epoch 5 on valid dataset......\n"
          ]
        },
        {
          "output_type": "stream",
          "name": "stderr",
          "text": [
            "INFO:root:Validate completed, avg loss: 5.3021.\n",
            "INFO:root:EarlyStopping counter: 5 out of 5.\n",
            "INFO:root:Early stop.\n"
          ]
        },
        {
          "output_type": "stream",
          "name": "stdout",
          "text": [
            "Validate completed, avg loss: 5.3021.\n",
            "\n",
            "EarlyStopping counter: 5 out of 5.\n",
            "\n",
            "Early stop.\n",
            "\n"
          ]
        },
        {
          "output_type": "stream",
          "name": "stderr",
          "text": [
            "INFO:root:Epoch 1, batch 0: 5.218423366546631\n",
            "INFO:root:epoch: 1/50, batch: 0/3, avg loss: 5.2184\n",
            "INFO:root:Epoch 1, batch 0/16: 5.218423366546631\n"
          ]
        },
        {
          "output_type": "stream",
          "name": "stdout",
          "text": [
            "\u001b[0;36mtime\u001b[0m:  0h  0min  0s 222ms, \u001b[0;36mremaining\u001b[0m:  0h  1min  7s 821ms, \u001b[0;33mepoch\u001b[0m:  1/50, \u001b[0;33mbatch\u001b[0m: 0/3, \u001b[0;32mpercent complete\u001b[0m:   0.33%, \u001b[0;31mavg loss\u001b[0m: 5.2184\n",
            "Epoch 1, batch 0/16: 5.218423366546631\n"
          ]
        },
        {
          "output_type": "stream",
          "name": "stderr",
          "text": [
            "INFO:root:Epoch 1, batch 1: 5.223834991455078\n",
            "INFO:root:Epoch 1, batch 2: 5.819300651550293\n",
            "INFO:root:Epoch 1, batch 3: 5.576980113983154\n",
            "INFO:root:Epoch 1, batch 4: 5.154682159423828\n",
            "INFO:root:Epoch 1, batch 5: 6.2843546867370605\n",
            "INFO:root:Epoch 1, batch 6: 6.295305252075195\n",
            "INFO:root:Validating the model at the end of epoch 0 on valid dataset.\n"
          ]
        },
        {
          "output_type": "stream",
          "name": "stdout",
          "text": [
            "\n",
            "Validating the model at the end of epoch 0 on valid dataset......\n"
          ]
        },
        {
          "output_type": "stream",
          "name": "stderr",
          "text": [
            "INFO:root:Validate completed, avg loss: 5.4327.\n",
            "INFO:root:Epoch 2, batch 0: 2.9335081577301025\n",
            "INFO:root:epoch: 2/50, batch: 0/3, avg loss: 2.9335\n",
            "INFO:root:Epoch 2, batch 0/16: 2.9335081577301025\n"
          ]
        },
        {
          "output_type": "stream",
          "name": "stdout",
          "text": [
            "Validate completed, avg loss: 5.4327.\n",
            "\n",
            "\u001b[0;36mtime\u001b[0m:  0h  0min  4s 510ms, \u001b[0;36mremaining\u001b[0m:  0h  3min  9s 355ms, \u001b[0;33mepoch\u001b[0m:  2/50, \u001b[0;33mbatch\u001b[0m: 0/3, \u001b[0;32mpercent complete\u001b[0m:   2.33%, \u001b[0;31mavg loss\u001b[0m: 2.9335\n",
            "Epoch 2, batch 0/16: 2.9335081577301025\n"
          ]
        },
        {
          "output_type": "stream",
          "name": "stderr",
          "text": [
            "INFO:root:Epoch 2, batch 1: 3.4232258796691895\n",
            "INFO:root:Epoch 2, batch 2: 4.026477813720703\n",
            "INFO:root:Epoch 2, batch 3: 4.311892509460449\n",
            "INFO:root:Epoch 2, batch 4: 3.937234401702881\n",
            "INFO:root:Epoch 2, batch 5: 4.676577091217041\n",
            "INFO:root:Epoch 2, batch 6: 3.7862138748168945\n",
            "INFO:root:Validating the model at the end of epoch 1 on valid dataset.\n"
          ]
        },
        {
          "output_type": "stream",
          "name": "stdout",
          "text": [
            "\n",
            "Validating the model at the end of epoch 1 on valid dataset......\n"
          ]
        },
        {
          "output_type": "stream",
          "name": "stderr",
          "text": [
            "INFO:root:Validate completed, avg loss: 5.3962.\n",
            "INFO:root:Epoch 3, batch 0: 2.4762003421783447\n",
            "INFO:root:epoch: 3/50, batch: 0/3, avg loss: 2.4762\n",
            "INFO:root:Epoch 3, batch 0/16: 2.4762003421783447\n"
          ]
        },
        {
          "output_type": "stream",
          "name": "stdout",
          "text": [
            "Validate completed, avg loss: 5.3962.\n",
            "\n",
            "\u001b[0;36mtime\u001b[0m:  0h  0min  9s   4ms, \u001b[0;36mremaining\u001b[0m:  0h  3min 19s 124ms, \u001b[0;33mepoch\u001b[0m:  3/50, \u001b[0;33mbatch\u001b[0m: 0/3, \u001b[0;32mpercent complete\u001b[0m:   4.33%, \u001b[0;31mavg loss\u001b[0m: 2.4762\n",
            "Epoch 3, batch 0/16: 2.4762003421783447\n"
          ]
        },
        {
          "output_type": "stream",
          "name": "stderr",
          "text": [
            "INFO:root:Epoch 3, batch 1: 2.5567190647125244\n",
            "INFO:root:Epoch 3, batch 2: 3.530468225479126\n",
            "INFO:root:Epoch 3, batch 3: 3.1239888668060303\n",
            "INFO:root:Epoch 3, batch 4: 3.6195411682128906\n",
            "INFO:root:Epoch 3, batch 5: 3.6667726039886475\n",
            "INFO:root:Epoch 3, batch 6: 2.525324821472168\n",
            "INFO:root:Validating the model at the end of epoch 2 on valid dataset.\n"
          ]
        },
        {
          "output_type": "stream",
          "name": "stdout",
          "text": [
            "\n",
            "Validating the model at the end of epoch 2 on valid dataset......\n"
          ]
        },
        {
          "output_type": "stream",
          "name": "stderr",
          "text": [
            "INFO:root:Validate completed, avg loss: 5.4010.\n",
            "INFO:root:EarlyStopping counter: 1 out of 5.\n",
            "INFO:root:Epoch 4, batch 0: 1.6440006494522095\n",
            "INFO:root:epoch: 4/50, batch: 0/3, avg loss: 1.6440\n",
            "INFO:root:Epoch 4, batch 0/16: 1.6440006494522095\n"
          ]
        },
        {
          "output_type": "stream",
          "name": "stdout",
          "text": [
            "Validate completed, avg loss: 5.4010.\n",
            "\n",
            "EarlyStopping counter: 1 out of 5.\n",
            "\n",
            "\u001b[0;36mtime\u001b[0m:  0h  0min 13s 424ms, \u001b[0;36mremaining\u001b[0m:  0h  3min 18s 768ms, \u001b[0;33mepoch\u001b[0m:  4/50, \u001b[0;33mbatch\u001b[0m: 0/3, \u001b[0;32mpercent complete\u001b[0m:   6.33%, \u001b[0;31mavg loss\u001b[0m: 1.6440\n",
            "Epoch 4, batch 0/16: 1.6440006494522095\n"
          ]
        },
        {
          "output_type": "stream",
          "name": "stderr",
          "text": [
            "INFO:root:Epoch 4, batch 1: 1.8243118524551392\n",
            "INFO:root:Epoch 4, batch 2: 2.2569243907928467\n",
            "INFO:root:Epoch 4, batch 3: 2.563201665878296\n",
            "INFO:root:Epoch 4, batch 4: 2.678661823272705\n",
            "INFO:root:Epoch 4, batch 5: 3.3325233459472656\n",
            "INFO:root:Epoch 4, batch 6: 1.8616280555725098\n",
            "INFO:root:Validating the model at the end of epoch 3 on valid dataset.\n"
          ]
        },
        {
          "output_type": "stream",
          "name": "stdout",
          "text": [
            "\n",
            "Validating the model at the end of epoch 3 on valid dataset......\n"
          ]
        },
        {
          "output_type": "stream",
          "name": "stderr",
          "text": [
            "INFO:root:Validate completed, avg loss: 5.4311.\n",
            "INFO:root:EarlyStopping counter: 2 out of 5.\n",
            "INFO:root:Epoch 5, batch 0: 1.1144107580184937\n",
            "INFO:root:epoch: 5/50, batch: 0/3, avg loss: 1.1144\n",
            "INFO:root:Epoch 5, batch 0/16: 1.1144107580184937\n"
          ]
        },
        {
          "output_type": "stream",
          "name": "stdout",
          "text": [
            "Validate completed, avg loss: 5.4311.\n",
            "\n",
            "EarlyStopping counter: 2 out of 5.\n",
            "\n",
            "\u001b[0;36mtime\u001b[0m:  0h  0min 17s 751ms, \u001b[0;36mremaining\u001b[0m:  0h  3min 15s 437ms, \u001b[0;33mepoch\u001b[0m:  5/50, \u001b[0;33mbatch\u001b[0m: 0/3, \u001b[0;32mpercent complete\u001b[0m:   8.33%, \u001b[0;31mavg loss\u001b[0m: 1.1144\n",
            "Epoch 5, batch 0/16: 1.1144107580184937\n"
          ]
        },
        {
          "output_type": "stream",
          "name": "stderr",
          "text": [
            "INFO:root:Epoch 5, batch 1: 1.4196356534957886\n",
            "INFO:root:Epoch 5, batch 2: 1.7697592973709106\n",
            "INFO:root:Epoch 5, batch 3: 1.8119741678237915\n",
            "INFO:root:Epoch 5, batch 4: 2.1142513751983643\n",
            "INFO:root:Epoch 5, batch 5: 2.745992422103882\n",
            "INFO:root:Epoch 5, batch 6: 1.495523452758789\n",
            "INFO:root:Validating the model at the end of epoch 4 on valid dataset.\n"
          ]
        },
        {
          "output_type": "stream",
          "name": "stdout",
          "text": [
            "\n",
            "Validating the model at the end of epoch 4 on valid dataset......\n"
          ]
        },
        {
          "output_type": "stream",
          "name": "stderr",
          "text": [
            "INFO:root:Validate completed, avg loss: 5.4929.\n",
            "INFO:root:EarlyStopping counter: 3 out of 5.\n",
            "INFO:root:Epoch 6, batch 0: 0.7185537815093994\n",
            "INFO:root:epoch: 6/50, batch: 0/3, avg loss: 0.7186\n",
            "INFO:root:Epoch 6, batch 0/16: 0.7185537815093994\n"
          ]
        },
        {
          "output_type": "stream",
          "name": "stdout",
          "text": [
            "Validate completed, avg loss: 5.4929.\n",
            "\n",
            "EarlyStopping counter: 3 out of 5.\n",
            "\n",
            "\u001b[0;36mtime\u001b[0m:  0h  0min 22s 273ms, \u001b[0;36mremaining\u001b[0m:  0h  3min 13s 418ms, \u001b[0;33mepoch\u001b[0m:  6/50, \u001b[0;33mbatch\u001b[0m: 0/3, \u001b[0;32mpercent complete\u001b[0m:  10.33%, \u001b[0;31mavg loss\u001b[0m: 0.7186\n",
            "Epoch 6, batch 0/16: 0.7185537815093994\n"
          ]
        },
        {
          "output_type": "stream",
          "name": "stderr",
          "text": [
            "INFO:root:Epoch 6, batch 1: 0.972528874874115\n",
            "INFO:root:Epoch 6, batch 2: 1.2166987657546997\n",
            "INFO:root:Epoch 6, batch 3: 1.3806283473968506\n",
            "INFO:root:Epoch 6, batch 4: 1.515864372253418\n",
            "INFO:root:Epoch 6, batch 5: 1.8911091089248657\n",
            "INFO:root:Epoch 6, batch 6: 0.8339559435844421\n",
            "INFO:root:Validating the model at the end of epoch 5 on valid dataset.\n"
          ]
        },
        {
          "output_type": "stream",
          "name": "stdout",
          "text": [
            "\n",
            "Validating the model at the end of epoch 5 on valid dataset......\n"
          ]
        },
        {
          "output_type": "stream",
          "name": "stderr",
          "text": [
            "INFO:root:Validate completed, avg loss: 5.5462.\n",
            "INFO:root:EarlyStopping counter: 4 out of 5.\n",
            "INFO:root:Epoch 7, batch 0: 0.4048195481300354\n",
            "INFO:root:epoch: 7/50, batch: 0/3, avg loss: 0.4048\n",
            "INFO:root:Epoch 7, batch 0/16: 0.4048195481300354\n"
          ]
        },
        {
          "output_type": "stream",
          "name": "stdout",
          "text": [
            "Validate completed, avg loss: 5.5462.\n",
            "\n",
            "EarlyStopping counter: 4 out of 5.\n",
            "\n",
            "\u001b[0;36mtime\u001b[0m:  0h  0min 26s 828ms, \u001b[0;36mremaining\u001b[0m:  0h  3min 10s 817ms, \u001b[0;33mepoch\u001b[0m:  7/50, \u001b[0;33mbatch\u001b[0m: 0/3, \u001b[0;32mpercent complete\u001b[0m:  12.33%, \u001b[0;31mavg loss\u001b[0m: 0.4048\n",
            "Epoch 7, batch 0/16: 0.4048195481300354\n"
          ]
        },
        {
          "output_type": "stream",
          "name": "stderr",
          "text": [
            "INFO:root:Epoch 7, batch 1: 0.7830430865287781\n",
            "INFO:root:Epoch 7, batch 2: 0.8087764978408813\n",
            "INFO:root:Epoch 7, batch 3: 0.9238632321357727\n",
            "INFO:root:Epoch 7, batch 4: 1.3566310405731201\n",
            "INFO:root:Epoch 7, batch 5: 1.7548737525939941\n",
            "INFO:root:Epoch 7, batch 6: 0.8652933239936829\n",
            "INFO:root:Validating the model at the end of epoch 6 on valid dataset.\n"
          ]
        },
        {
          "output_type": "stream",
          "name": "stdout",
          "text": [
            "\n",
            "Validating the model at the end of epoch 6 on valid dataset......\n"
          ]
        },
        {
          "output_type": "stream",
          "name": "stderr",
          "text": [
            "INFO:root:Validate completed, avg loss: 5.6083.\n",
            "INFO:root:EarlyStopping counter: 5 out of 5.\n",
            "INFO:root:Early stop.\n"
          ]
        },
        {
          "output_type": "stream",
          "name": "stdout",
          "text": [
            "Validate completed, avg loss: 5.6083.\n",
            "\n",
            "EarlyStopping counter: 5 out of 5.\n",
            "\n",
            "Early stop.\n",
            "\n",
            "MAML: \n",
            "Baseline: \n"
          ]
        },
        {
          "output_type": "display_data",
          "data": {
            "text/plain": [
              "<Figure size 640x480 with 1 Axes>"
            ],
            "image/png": "[encoded data removed]"
          },
          "metadata": {}
        },
        {
          "output_type": "display_data",
          "data": {
            "text/plain": [
              "<Figure size 640x480 with 1 Axes>"
            ],
            "image/png": "[encoded data removed]"
          },
          "metadata": {}
        },
        {
          "output_type": "display_data",
          "data": {
            "text/plain": [
              "<Figure size 640x480 with 1 Axes>"
            ],
            "image/png": "[encoded data removed]"
          },
          "metadata": {}
        }
      ]
    }
  ],
  "metadata": {
    "accelerator": "GPU",
    "colab": {
      "gpuType": "T4",
      "provenance": []
    },
    "kernelspec": {
      "display_name": "Python 3",
      "name": "python3"
    },
    "language_info": {
      "name": "python"
    }
  },
  "nbformat": 4,
  "nbformat_minor": 0
}